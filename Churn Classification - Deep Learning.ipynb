{
  "nbformat": 4,
  "nbformat_minor": 0,
  "metadata": {
    "colab": {
      "name": "Untitled0.ipynb",
      "provenance": [],
      "authorship_tag": "ABX9TyOKe54ZCKtIdP7PBH4EGfro",
      "include_colab_link": true
    },
    "kernelspec": {
      "name": "python3",
      "display_name": "Python 3"
    },
    "language_info": {
      "name": "python"
    }
  },
  "cells": [
    {
      "cell_type": "markdown",
      "metadata": {
        "id": "view-in-github",
        "colab_type": "text"
      },
      "source": [
        "<a href=\"https://colab.research.google.com/github/k1ran242/kiran/blob/main/Churn%20Classification%20-%20Deep%20Learning.ipynb\" target=\"_parent\"><img src=\"https://colab.research.google.com/assets/colab-badge.svg\" alt=\"Open In Colab\"/></a>"
      ]
    },
    {
      "cell_type": "code",
      "metadata": {
        "id": "uAeZv2re9qaE"
      },
      "source": [
        "import numpy as np\n",
        "import matplotlib.pyplot as plt\n",
        "import pandas as pd"
      ],
      "execution_count": 1,
      "outputs": []
    },
    {
      "cell_type": "code",
      "metadata": {
        "colab": {
          "base_uri": "https://localhost:8080/",
          "height": 223
        },
        "id": "uH46ypBJAkR7",
        "outputId": "71ddfa6b-f01b-4efc-af39-faa8b1436e58"
      },
      "source": [
        "dataset = pd.read_csv('/content/drive/MyDrive/Colab Notebooks/Copy of Churn_Modelling.csv')\n",
        "dataset.head()"
      ],
      "execution_count": 2,
      "outputs": [
        {
          "output_type": "execute_result",
          "data": {
            "text/html": [
              "<div>\n",
              "<style scoped>\n",
              "    .dataframe tbody tr th:only-of-type {\n",
              "        vertical-align: middle;\n",
              "    }\n",
              "\n",
              "    .dataframe tbody tr th {\n",
              "        vertical-align: top;\n",
              "    }\n",
              "\n",
              "    .dataframe thead th {\n",
              "        text-align: right;\n",
              "    }\n",
              "</style>\n",
              "<table border=\"1\" class=\"dataframe\">\n",
              "  <thead>\n",
              "    <tr style=\"text-align: right;\">\n",
              "      <th></th>\n",
              "      <th>RowNumber</th>\n",
              "      <th>CustomerId</th>\n",
              "      <th>Surname</th>\n",
              "      <th>CreditScore</th>\n",
              "      <th>Geography</th>\n",
              "      <th>Gender</th>\n",
              "      <th>Age</th>\n",
              "      <th>Tenure</th>\n",
              "      <th>Balance</th>\n",
              "      <th>NumOfProducts</th>\n",
              "      <th>HasCrCard</th>\n",
              "      <th>IsActiveMember</th>\n",
              "      <th>EstimatedSalary</th>\n",
              "      <th>Exited</th>\n",
              "    </tr>\n",
              "  </thead>\n",
              "  <tbody>\n",
              "    <tr>\n",
              "      <th>0</th>\n",
              "      <td>1</td>\n",
              "      <td>15634602</td>\n",
              "      <td>Hargrave</td>\n",
              "      <td>619</td>\n",
              "      <td>France</td>\n",
              "      <td>Female</td>\n",
              "      <td>42</td>\n",
              "      <td>2</td>\n",
              "      <td>0.00</td>\n",
              "      <td>1</td>\n",
              "      <td>1</td>\n",
              "      <td>1</td>\n",
              "      <td>101348.88</td>\n",
              "      <td>1</td>\n",
              "    </tr>\n",
              "    <tr>\n",
              "      <th>1</th>\n",
              "      <td>2</td>\n",
              "      <td>15647311</td>\n",
              "      <td>Hill</td>\n",
              "      <td>608</td>\n",
              "      <td>Spain</td>\n",
              "      <td>Female</td>\n",
              "      <td>41</td>\n",
              "      <td>1</td>\n",
              "      <td>83807.86</td>\n",
              "      <td>1</td>\n",
              "      <td>0</td>\n",
              "      <td>1</td>\n",
              "      <td>112542.58</td>\n",
              "      <td>0</td>\n",
              "    </tr>\n",
              "    <tr>\n",
              "      <th>2</th>\n",
              "      <td>3</td>\n",
              "      <td>15619304</td>\n",
              "      <td>Onio</td>\n",
              "      <td>502</td>\n",
              "      <td>France</td>\n",
              "      <td>Female</td>\n",
              "      <td>42</td>\n",
              "      <td>8</td>\n",
              "      <td>159660.80</td>\n",
              "      <td>3</td>\n",
              "      <td>1</td>\n",
              "      <td>0</td>\n",
              "      <td>113931.57</td>\n",
              "      <td>1</td>\n",
              "    </tr>\n",
              "    <tr>\n",
              "      <th>3</th>\n",
              "      <td>4</td>\n",
              "      <td>15701354</td>\n",
              "      <td>Boni</td>\n",
              "      <td>699</td>\n",
              "      <td>France</td>\n",
              "      <td>Female</td>\n",
              "      <td>39</td>\n",
              "      <td>1</td>\n",
              "      <td>0.00</td>\n",
              "      <td>2</td>\n",
              "      <td>0</td>\n",
              "      <td>0</td>\n",
              "      <td>93826.63</td>\n",
              "      <td>0</td>\n",
              "    </tr>\n",
              "    <tr>\n",
              "      <th>4</th>\n",
              "      <td>5</td>\n",
              "      <td>15737888</td>\n",
              "      <td>Mitchell</td>\n",
              "      <td>850</td>\n",
              "      <td>Spain</td>\n",
              "      <td>Female</td>\n",
              "      <td>43</td>\n",
              "      <td>2</td>\n",
              "      <td>125510.82</td>\n",
              "      <td>1</td>\n",
              "      <td>1</td>\n",
              "      <td>1</td>\n",
              "      <td>79084.10</td>\n",
              "      <td>0</td>\n",
              "    </tr>\n",
              "  </tbody>\n",
              "</table>\n",
              "</div>"
            ],
            "text/plain": [
              "   RowNumber  CustomerId   Surname  ...  IsActiveMember EstimatedSalary Exited\n",
              "0          1    15634602  Hargrave  ...               1       101348.88      1\n",
              "1          2    15647311      Hill  ...               1       112542.58      0\n",
              "2          3    15619304      Onio  ...               0       113931.57      1\n",
              "3          4    15701354      Boni  ...               0        93826.63      0\n",
              "4          5    15737888  Mitchell  ...               1        79084.10      0\n",
              "\n",
              "[5 rows x 14 columns]"
            ]
          },
          "metadata": {
            "tags": []
          },
          "execution_count": 2
        }
      ]
    },
    {
      "cell_type": "code",
      "metadata": {
        "colab": {
          "base_uri": "https://localhost:8080/",
          "height": 279
        },
        "id": "nElOuhAKArU4",
        "outputId": "52168a42-bb10-4a92-b694-f6b3abd9ef6e"
      },
      "source": [
        "dataset['Exited'].value_counts().plot(kind='bar')"
      ],
      "execution_count": 3,
      "outputs": [
        {
          "output_type": "execute_result",
          "data": {
            "text/plain": [
              "<matplotlib.axes._subplots.AxesSubplot at 0x7f11d6092910>"
            ]
          },
          "metadata": {
            "tags": []
          },
          "execution_count": 3
        },
        {
          "output_type": "display_data",
          "data": {
            "image/png": "[encoded data removed]",
            "text/plain": [
              "<Figure size 432x288 with 1 Axes>"
            ]
          },
          "metadata": {
            "tags": [],
            "needs_background": "light"
          }
        }
      ]
    },
    {
      "cell_type": "code",
      "metadata": {
        "colab": {
          "base_uri": "https://localhost:8080/",
          "height": 282
        },
        "id": "xQ42KyK1A-Fl",
        "outputId": "b9ec1071-49c7-461f-a3d8-539796eaf49a"
      },
      "source": [
        "dataset.EstimatedSalary.plot(kind='hist')"
      ],
      "execution_count": 4,
      "outputs": [
        {
          "output_type": "execute_result",
          "data": {
            "text/plain": [
              "<matplotlib.axes._subplots.AxesSubplot at 0x7f11d5b35590>"
            ]
          },
          "metadata": {
            "tags": []
          },
          "execution_count": 4
        },
        {
          "output_type": "display_data",
          "data": {
            "image/png": "[encoded data removed]",
            "text/plain": [
              "<Figure size 432x288 with 1 Axes>"
            ]
          },
          "metadata": {
            "tags": [],
            "needs_background": "light"
          }
        }
      ]
    },
    {
      "cell_type": "code",
      "metadata": {
        "colab": {
          "base_uri": "https://localhost:8080/"
        },
        "id": "9OaFH6vRBJ3Y",
        "outputId": "4da69055-a7eb-49f0-e8a4-71e4353a1906"
      },
      "source": [
        "dataset.Geography.value_counts()"
      ],
      "execution_count": 5,
      "outputs": [
        {
          "output_type": "execute_result",
          "data": {
            "text/plain": [
              "France     5014\n",
              "Germany    2509\n",
              "Spain      2477\n",
              "Name: Geography, dtype: int64"
            ]
          },
          "metadata": {
            "tags": []
          },
          "execution_count": 5
        }
      ]
    },
    {
      "cell_type": "code",
      "metadata": {
        "id": "5xQeXaX-BVOT"
      },
      "source": [
        "dummies=pd.get_dummies(dataset[['Geography','Gender']],drop_first=True)"
      ],
      "execution_count": 6,
      "outputs": []
    },
    {
      "cell_type": "code",
      "metadata": {
        "colab": {
          "base_uri": "https://localhost:8080/",
          "height": 203
        },
        "id": "oEo2V1YeBtKP",
        "outputId": "9bbbb1af-666d-4b08-fea2-a5ab9f9a6237"
      },
      "source": [
        "dummies.head()"
      ],
      "execution_count": 7,
      "outputs": [
        {
          "output_type": "execute_result",
          "data": {
            "text/html": [
              "<div>\n",
              "<style scoped>\n",
              "    .dataframe tbody tr th:only-of-type {\n",
              "        vertical-align: middle;\n",
              "    }\n",
              "\n",
              "    .dataframe tbody tr th {\n",
              "        vertical-align: top;\n",
              "    }\n",
              "\n",
              "    .dataframe thead th {\n",
              "        text-align: right;\n",
              "    }\n",
              "</style>\n",
              "<table border=\"1\" class=\"dataframe\">\n",
              "  <thead>\n",
              "    <tr style=\"text-align: right;\">\n",
              "      <th></th>\n",
              "      <th>Geography_Germany</th>\n",
              "      <th>Geography_Spain</th>\n",
              "      <th>Gender_Male</th>\n",
              "    </tr>\n",
              "  </thead>\n",
              "  <tbody>\n",
              "    <tr>\n",
              "      <th>0</th>\n",
              "      <td>0</td>\n",
              "      <td>0</td>\n",
              "      <td>0</td>\n",
              "    </tr>\n",
              "    <tr>\n",
              "      <th>1</th>\n",
              "      <td>0</td>\n",
              "      <td>1</td>\n",
              "      <td>0</td>\n",
              "    </tr>\n",
              "    <tr>\n",
              "      <th>2</th>\n",
              "      <td>0</td>\n",
              "      <td>0</td>\n",
              "      <td>0</td>\n",
              "    </tr>\n",
              "    <tr>\n",
              "      <th>3</th>\n",
              "      <td>0</td>\n",
              "      <td>0</td>\n",
              "      <td>0</td>\n",
              "    </tr>\n",
              "    <tr>\n",
              "      <th>4</th>\n",
              "      <td>0</td>\n",
              "      <td>1</td>\n",
              "      <td>0</td>\n",
              "    </tr>\n",
              "  </tbody>\n",
              "</table>\n",
              "</div>"
            ],
            "text/plain": [
              "   Geography_Germany  Geography_Spain  Gender_Male\n",
              "0                  0                0            0\n",
              "1                  0                1            0\n",
              "2                  0                0            0\n",
              "3                  0                0            0\n",
              "4                  0                1            0"
            ]
          },
          "metadata": {
            "tags": []
          },
          "execution_count": 7
        }
      ]
    },
    {
      "cell_type": "code",
      "metadata": {
        "id": "XYXk5ySbB1Ve"
      },
      "source": [
        "df=dataset.drop(['Geography','Gender','RowNumber','CustomerId','Surname'],axis=1)"
      ],
      "execution_count": 8,
      "outputs": []
    },
    {
      "cell_type": "code",
      "metadata": {
        "colab": {
          "base_uri": "https://localhost:8080/",
          "height": 223
        },
        "id": "jlVcJaVMCqrN",
        "outputId": "3c964b2c-222e-4fdb-f1f7-c09759ee381e"
      },
      "source": [
        "df=pd.concat([df,dummies],axis=1)\n",
        "df.head()"
      ],
      "execution_count": 10,
      "outputs": [
        {
          "output_type": "execute_result",
          "data": {
            "text/html": [
              "<div>\n",
              "<style scoped>\n",
              "    .dataframe tbody tr th:only-of-type {\n",
              "        vertical-align: middle;\n",
              "    }\n",
              "\n",
              "    .dataframe tbody tr th {\n",
              "        vertical-align: top;\n",
              "    }\n",
              "\n",
              "    .dataframe thead th {\n",
              "        text-align: right;\n",
              "    }\n",
              "</style>\n",
              "<table border=\"1\" class=\"dataframe\">\n",
              "  <thead>\n",
              "    <tr style=\"text-align: right;\">\n",
              "      <th></th>\n",
              "      <th>CreditScore</th>\n",
              "      <th>Age</th>\n",
              "      <th>Tenure</th>\n",
              "      <th>Balance</th>\n",
              "      <th>NumOfProducts</th>\n",
              "      <th>HasCrCard</th>\n",
              "      <th>IsActiveMember</th>\n",
              "      <th>EstimatedSalary</th>\n",
              "      <th>Exited</th>\n",
              "      <th>Geography_Germany</th>\n",
              "      <th>Geography_Spain</th>\n",
              "      <th>Gender_Male</th>\n",
              "    </tr>\n",
              "  </thead>\n",
              "  <tbody>\n",
              "    <tr>\n",
              "      <th>0</th>\n",
              "      <td>619</td>\n",
              "      <td>42</td>\n",
              "      <td>2</td>\n",
              "      <td>0.00</td>\n",
              "      <td>1</td>\n",
              "      <td>1</td>\n",
              "      <td>1</td>\n",
              "      <td>101348.88</td>\n",
              "      <td>1</td>\n",
              "      <td>0</td>\n",
              "      <td>0</td>\n",
              "      <td>0</td>\n",
              "    </tr>\n",
              "    <tr>\n",
              "      <th>1</th>\n",
              "      <td>608</td>\n",
              "      <td>41</td>\n",
              "      <td>1</td>\n",
              "      <td>83807.86</td>\n",
              "      <td>1</td>\n",
              "      <td>0</td>\n",
              "      <td>1</td>\n",
              "      <td>112542.58</td>\n",
              "      <td>0</td>\n",
              "      <td>0</td>\n",
              "      <td>1</td>\n",
              "      <td>0</td>\n",
              "    </tr>\n",
              "    <tr>\n",
              "      <th>2</th>\n",
              "      <td>502</td>\n",
              "      <td>42</td>\n",
              "      <td>8</td>\n",
              "      <td>159660.80</td>\n",
              "      <td>3</td>\n",
              "      <td>1</td>\n",
              "      <td>0</td>\n",
              "      <td>113931.57</td>\n",
              "      <td>1</td>\n",
              "      <td>0</td>\n",
              "      <td>0</td>\n",
              "      <td>0</td>\n",
              "    </tr>\n",
              "    <tr>\n",
              "      <th>3</th>\n",
              "      <td>699</td>\n",
              "      <td>39</td>\n",
              "      <td>1</td>\n",
              "      <td>0.00</td>\n",
              "      <td>2</td>\n",
              "      <td>0</td>\n",
              "      <td>0</td>\n",
              "      <td>93826.63</td>\n",
              "      <td>0</td>\n",
              "      <td>0</td>\n",
              "      <td>0</td>\n",
              "      <td>0</td>\n",
              "    </tr>\n",
              "    <tr>\n",
              "      <th>4</th>\n",
              "      <td>850</td>\n",
              "      <td>43</td>\n",
              "      <td>2</td>\n",
              "      <td>125510.82</td>\n",
              "      <td>1</td>\n",
              "      <td>1</td>\n",
              "      <td>1</td>\n",
              "      <td>79084.10</td>\n",
              "      <td>0</td>\n",
              "      <td>0</td>\n",
              "      <td>1</td>\n",
              "      <td>0</td>\n",
              "    </tr>\n",
              "  </tbody>\n",
              "</table>\n",
              "</div>"
            ],
            "text/plain": [
              "   CreditScore  Age  Tenure  ...  Geography_Germany  Geography_Spain  Gender_Male\n",
              "0          619   42       2  ...                  0                0            0\n",
              "1          608   41       1  ...                  0                1            0\n",
              "2          502   42       8  ...                  0                0            0\n",
              "3          699   39       1  ...                  0                0            0\n",
              "4          850   43       2  ...                  0                1            0\n",
              "\n",
              "[5 rows x 12 columns]"
            ]
          },
          "metadata": {
            "tags": []
          },
          "execution_count": 10
        }
      ]
    },
    {
      "cell_type": "code",
      "metadata": {
        "colab": {
          "base_uri": "https://localhost:8080/"
        },
        "id": "pPdYRnhSDW4T",
        "outputId": "9ba92f1a-d2fd-4a2c-b68a-9dab4077b02d"
      },
      "source": [
        "df.info()"
      ],
      "execution_count": 14,
      "outputs": [
        {
          "output_type": "stream",
          "text": [
            "<class 'pandas.core.frame.DataFrame'>\n",
            "RangeIndex: 10000 entries, 0 to 9999\n",
            "Data columns (total 12 columns):\n",
            " #   Column             Non-Null Count  Dtype  \n",
            "---  ------             --------------  -----  \n",
            " 0   CreditScore        10000 non-null  int64  \n",
            " 1   Age                10000 non-null  int64  \n",
            " 2   Tenure             10000 non-null  int64  \n",
            " 3   Balance            10000 non-null  float64\n",
            " 4   NumOfProducts      10000 non-null  int64  \n",
            " 5   HasCrCard          10000 non-null  int64  \n",
            " 6   IsActiveMember     10000 non-null  int64  \n",
            " 7   EstimatedSalary    10000 non-null  float64\n",
            " 8   Exited             10000 non-null  int64  \n",
            " 9   Geography_Germany  10000 non-null  uint8  \n",
            " 10  Geography_Spain    10000 non-null  uint8  \n",
            " 11  Gender_Male        10000 non-null  uint8  \n",
            "dtypes: float64(2), int64(7), uint8(3)\n",
            "memory usage: 732.5 KB\n"
          ],
          "name": "stdout"
        }
      ]
    },
    {
      "cell_type": "code",
      "metadata": {
        "id": "nmvN8vBGDKWF"
      },
      "source": [
        "X=df.drop(['Exited'],axis=1)\n",
        "y=df['Exited']"
      ],
      "execution_count": 12,
      "outputs": []
    },
    {
      "cell_type": "code",
      "metadata": {
        "id": "2R4mpC1aCw_y"
      },
      "source": [
        "# Splitting the dataset into the Training set and Test set\n",
        "from sklearn.model_selection import train_test_split\n",
        "X_train, X_test, y_train, y_test = train_test_split(X, y, test_size = 0.2, random_state = 0)"
      ],
      "execution_count": 13,
      "outputs": []
    },
    {
      "cell_type": "code",
      "metadata": {
        "id": "xUai6s6wDVax"
      },
      "source": [
        "# Feature Scaling\n",
        "from sklearn.preprocessing import StandardScaler\n",
        "sc = StandardScaler()\n",
        "X_train = sc.fit_transform(X_train)\n",
        "X_test = sc.transform(X_test)"
      ],
      "execution_count": 15,
      "outputs": []
    },
    {
      "cell_type": "code",
      "metadata": {
        "id": "cFP5HRuvDb2l"
      },
      "source": [
        "# Importing the Keras libraries and packages\n",
        "import keras\n",
        "from keras.models import Sequential\n",
        "from keras.layers import Dense\n",
        "from keras.layers import Dropout"
      ],
      "execution_count": 16,
      "outputs": []
    },
    {
      "cell_type": "code",
      "metadata": {
        "colab": {
          "base_uri": "https://localhost:8080/"
        },
        "id": "2jm5XVDNDsqE",
        "outputId": "541f14bf-d9af-4d54-8d2a-17e9134f6451"
      },
      "source": [
        "X_train.shape"
      ],
      "execution_count": 18,
      "outputs": [
        {
          "output_type": "execute_result",
          "data": {
            "text/plain": [
              "(8000, 11)"
            ]
          },
          "metadata": {
            "tags": []
          },
          "execution_count": 18
        }
      ]
    },
    {
      "cell_type": "code",
      "metadata": {
        "id": "ya-Is3YwDgcY"
      },
      "source": [
        "model=Sequential()"
      ],
      "execution_count": 17,
      "outputs": []
    },
    {
      "cell_type": "code",
      "metadata": {
        "id": "Zu7wtplyDls3"
      },
      "source": [
        "# Adding the input layer and the first hidden layer\n",
        "model.add(Dense(units= 6, kernel_initializer = 'he_uniform',activation='relu',input_dim = 11))\n",
        "\n",
        "# Adding the second hidden layer\n",
        "model.add(Dense(units= 6, kernel_initializer = 'he_uniform',activation='relu'))\n",
        "\n",
        "# Adding the output layer\n",
        "model.add(Dense(units = 1, kernel_initializer = 'glorot_uniform', activation = 'sigmoid'))\n",
        "\n",
        "# Compiling the ANN\n",
        "model.compile(optimizer = 'Adam', loss = 'binary_crossentropy', metrics = ['accuracy'])"
      ],
      "execution_count": 21,
      "outputs": []
    },
    {
      "cell_type": "code",
      "metadata": {
        "colab": {
          "base_uri": "https://localhost:8080/"
        },
        "id": "IHY5zo35D3D1",
        "outputId": "fe06bc35-114f-4372-eafd-6223733adbcf"
      },
      "source": [
        "# Fitting the ANN to the Training set\n",
        "model_history=model.fit(X_train, y_train,validation_split=0.33, batch_size = 20, epochs = 150,validation_data=(X_test,y_test))"
      ],
      "execution_count": 24,
      "outputs": [
        {
          "output_type": "stream",
          "text": [
            "Epoch 1/150\n",
            "268/268 [==============================] - 15s 4ms/step - loss: 0.5987 - accuracy: 0.7045 - val_loss: 0.4961 - val_accuracy: 0.7864\n",
            "Epoch 2/150\n",
            "268/268 [==============================] - 0s 2ms/step - loss: 0.4823 - accuracy: 0.7898 - val_loss: 0.4703 - val_accuracy: 0.7933\n",
            "Epoch 3/150\n",
            "268/268 [==============================] - 1s 2ms/step - loss: 0.4739 - accuracy: 0.7914 - val_loss: 0.4590 - val_accuracy: 0.7955\n",
            "Epoch 4/150\n",
            "268/268 [==============================] - 1s 2ms/step - loss: 0.4483 - accuracy: 0.7933 - val_loss: 0.4527 - val_accuracy: 0.7955\n",
            "Epoch 5/150\n",
            "268/268 [==============================] - 0s 2ms/step - loss: 0.4446 - accuracy: 0.7963 - val_loss: 0.4479 - val_accuracy: 0.7955\n",
            "Epoch 6/150\n",
            "268/268 [==============================] - 0s 2ms/step - loss: 0.4389 - accuracy: 0.7961 - val_loss: 0.4449 - val_accuracy: 0.7955\n",
            "Epoch 7/150\n",
            "268/268 [==============================] - 1s 2ms/step - loss: 0.4344 - accuracy: 0.7961 - val_loss: 0.4421 - val_accuracy: 0.7955\n",
            "Epoch 8/150\n",
            "268/268 [==============================] - 0s 2ms/step - loss: 0.4216 - accuracy: 0.8015 - val_loss: 0.4397 - val_accuracy: 0.7948\n",
            "Epoch 9/150\n",
            "268/268 [==============================] - 0s 2ms/step - loss: 0.4257 - accuracy: 0.7980 - val_loss: 0.4373 - val_accuracy: 0.7948\n",
            "Epoch 10/150\n",
            "268/268 [==============================] - 0s 2ms/step - loss: 0.4144 - accuracy: 0.8089 - val_loss: 0.4350 - val_accuracy: 0.7936\n",
            "Epoch 11/150\n",
            "268/268 [==============================] - 0s 2ms/step - loss: 0.4172 - accuracy: 0.8076 - val_loss: 0.4320 - val_accuracy: 0.7959\n",
            "Epoch 12/150\n",
            "268/268 [==============================] - 1s 2ms/step - loss: 0.4139 - accuracy: 0.8100 - val_loss: 0.4293 - val_accuracy: 0.7963\n",
            "Epoch 13/150\n",
            "268/268 [==============================] - 0s 2ms/step - loss: 0.4187 - accuracy: 0.8044 - val_loss: 0.4256 - val_accuracy: 0.7974\n",
            "Epoch 14/150\n",
            "268/268 [==============================] - 0s 2ms/step - loss: 0.4138 - accuracy: 0.8038 - val_loss: 0.4210 - val_accuracy: 0.7978\n",
            "Epoch 15/150\n",
            "268/268 [==============================] - 0s 2ms/step - loss: 0.3893 - accuracy: 0.8206 - val_loss: 0.4160 - val_accuracy: 0.8042\n",
            "Epoch 16/150\n",
            "268/268 [==============================] - 0s 2ms/step - loss: 0.3892 - accuracy: 0.8194 - val_loss: 0.4094 - val_accuracy: 0.8092\n",
            "Epoch 17/150\n",
            "268/268 [==============================] - 0s 2ms/step - loss: 0.4003 - accuracy: 0.8216 - val_loss: 0.4022 - val_accuracy: 0.8194\n",
            "Epoch 18/150\n",
            "268/268 [==============================] - 0s 2ms/step - loss: 0.3864 - accuracy: 0.8322 - val_loss: 0.3955 - val_accuracy: 0.8270\n",
            "Epoch 19/150\n",
            "268/268 [==============================] - 1s 2ms/step - loss: 0.3712 - accuracy: 0.8405 - val_loss: 0.3888 - val_accuracy: 0.8345\n",
            "Epoch 20/150\n",
            "268/268 [==============================] - 0s 2ms/step - loss: 0.3715 - accuracy: 0.8434 - val_loss: 0.3827 - val_accuracy: 0.8368\n",
            "Epoch 21/150\n",
            "268/268 [==============================] - 0s 2ms/step - loss: 0.3480 - accuracy: 0.8608 - val_loss: 0.3782 - val_accuracy: 0.8387\n",
            "Epoch 22/150\n",
            "268/268 [==============================] - 0s 2ms/step - loss: 0.3556 - accuracy: 0.8503 - val_loss: 0.3738 - val_accuracy: 0.8425\n",
            "Epoch 23/150\n",
            "268/268 [==============================] - 0s 2ms/step - loss: 0.3502 - accuracy: 0.8553 - val_loss: 0.3718 - val_accuracy: 0.8417\n",
            "Epoch 24/150\n",
            "268/268 [==============================] - 0s 2ms/step - loss: 0.3458 - accuracy: 0.8578 - val_loss: 0.3714 - val_accuracy: 0.8470\n",
            "Epoch 25/150\n",
            "268/268 [==============================] - 0s 2ms/step - loss: 0.3420 - accuracy: 0.8593 - val_loss: 0.3683 - val_accuracy: 0.8470\n",
            "Epoch 26/150\n",
            "268/268 [==============================] - 0s 2ms/step - loss: 0.3423 - accuracy: 0.8571 - val_loss: 0.3676 - val_accuracy: 0.8497\n",
            "Epoch 27/150\n",
            "268/268 [==============================] - 1s 2ms/step - loss: 0.3526 - accuracy: 0.8561 - val_loss: 0.3654 - val_accuracy: 0.8516\n",
            "Epoch 28/150\n",
            "268/268 [==============================] - 0s 2ms/step - loss: 0.3392 - accuracy: 0.8630 - val_loss: 0.3642 - val_accuracy: 0.8531\n",
            "Epoch 29/150\n",
            "268/268 [==============================] - 0s 2ms/step - loss: 0.3436 - accuracy: 0.8581 - val_loss: 0.3638 - val_accuracy: 0.8535\n",
            "Epoch 30/150\n",
            "268/268 [==============================] - 1s 2ms/step - loss: 0.3304 - accuracy: 0.8641 - val_loss: 0.3624 - val_accuracy: 0.8538\n",
            "Epoch 31/150\n",
            "268/268 [==============================] - 1s 2ms/step - loss: 0.3434 - accuracy: 0.8557 - val_loss: 0.3615 - val_accuracy: 0.8546\n",
            "Epoch 32/150\n",
            "268/268 [==============================] - 0s 2ms/step - loss: 0.3204 - accuracy: 0.8641 - val_loss: 0.3617 - val_accuracy: 0.8523\n",
            "Epoch 33/150\n",
            "268/268 [==============================] - 0s 2ms/step - loss: 0.3210 - accuracy: 0.8697 - val_loss: 0.3619 - val_accuracy: 0.8527\n",
            "Epoch 34/150\n",
            "268/268 [==============================] - 1s 2ms/step - loss: 0.3415 - accuracy: 0.8576 - val_loss: 0.3603 - val_accuracy: 0.8538\n",
            "Epoch 35/150\n",
            "268/268 [==============================] - 1s 2ms/step - loss: 0.3463 - accuracy: 0.8559 - val_loss: 0.3594 - val_accuracy: 0.8580\n",
            "Epoch 36/150\n",
            "268/268 [==============================] - 1s 2ms/step - loss: 0.3408 - accuracy: 0.8540 - val_loss: 0.3606 - val_accuracy: 0.8512\n",
            "Epoch 37/150\n",
            "268/268 [==============================] - 0s 2ms/step - loss: 0.3437 - accuracy: 0.8541 - val_loss: 0.3591 - val_accuracy: 0.8542\n",
            "Epoch 38/150\n",
            "268/268 [==============================] - 0s 2ms/step - loss: 0.3158 - accuracy: 0.8677 - val_loss: 0.3586 - val_accuracy: 0.8554\n",
            "Epoch 39/150\n",
            "268/268 [==============================] - 1s 2ms/step - loss: 0.3425 - accuracy: 0.8558 - val_loss: 0.3582 - val_accuracy: 0.8573\n",
            "Epoch 40/150\n",
            "268/268 [==============================] - 0s 2ms/step - loss: 0.3240 - accuracy: 0.8624 - val_loss: 0.3582 - val_accuracy: 0.8554\n",
            "Epoch 41/150\n",
            "268/268 [==============================] - 0s 2ms/step - loss: 0.3345 - accuracy: 0.8580 - val_loss: 0.3574 - val_accuracy: 0.8573\n",
            "Epoch 42/150\n",
            "268/268 [==============================] - 1s 2ms/step - loss: 0.3249 - accuracy: 0.8657 - val_loss: 0.3574 - val_accuracy: 0.8550\n",
            "Epoch 43/150\n",
            "268/268 [==============================] - 0s 2ms/step - loss: 0.3335 - accuracy: 0.8637 - val_loss: 0.3572 - val_accuracy: 0.8535\n",
            "Epoch 44/150\n",
            "268/268 [==============================] - 0s 2ms/step - loss: 0.3358 - accuracy: 0.8607 - val_loss: 0.3575 - val_accuracy: 0.8531\n",
            "Epoch 45/150\n",
            "268/268 [==============================] - 0s 2ms/step - loss: 0.3271 - accuracy: 0.8683 - val_loss: 0.3569 - val_accuracy: 0.8542\n",
            "Epoch 46/150\n",
            "268/268 [==============================] - 1s 2ms/step - loss: 0.3357 - accuracy: 0.8569 - val_loss: 0.3570 - val_accuracy: 0.8527\n",
            "Epoch 47/150\n",
            "268/268 [==============================] - 0s 2ms/step - loss: 0.3346 - accuracy: 0.8634 - val_loss: 0.3572 - val_accuracy: 0.8554\n",
            "Epoch 48/150\n",
            "268/268 [==============================] - 0s 2ms/step - loss: 0.3236 - accuracy: 0.8704 - val_loss: 0.3563 - val_accuracy: 0.8550\n",
            "Epoch 49/150\n",
            "268/268 [==============================] - 0s 2ms/step - loss: 0.3130 - accuracy: 0.8685 - val_loss: 0.3566 - val_accuracy: 0.8554\n",
            "Epoch 50/150\n",
            "268/268 [==============================] - 0s 2ms/step - loss: 0.3219 - accuracy: 0.8641 - val_loss: 0.3569 - val_accuracy: 0.8550\n",
            "Epoch 51/150\n",
            "268/268 [==============================] - 0s 2ms/step - loss: 0.3256 - accuracy: 0.8599 - val_loss: 0.3564 - val_accuracy: 0.8561\n",
            "Epoch 52/150\n",
            "268/268 [==============================] - 1s 2ms/step - loss: 0.3216 - accuracy: 0.8696 - val_loss: 0.3564 - val_accuracy: 0.8554\n",
            "Epoch 53/150\n",
            "268/268 [==============================] - 0s 2ms/step - loss: 0.3286 - accuracy: 0.8613 - val_loss: 0.3567 - val_accuracy: 0.8561\n",
            "Epoch 54/150\n",
            "268/268 [==============================] - 0s 2ms/step - loss: 0.3287 - accuracy: 0.8679 - val_loss: 0.3559 - val_accuracy: 0.8580\n",
            "Epoch 55/150\n",
            "268/268 [==============================] - 0s 2ms/step - loss: 0.3283 - accuracy: 0.8669 - val_loss: 0.3565 - val_accuracy: 0.8573\n",
            "Epoch 56/150\n",
            "268/268 [==============================] - 0s 2ms/step - loss: 0.3149 - accuracy: 0.8739 - val_loss: 0.3558 - val_accuracy: 0.8576\n",
            "Epoch 57/150\n",
            "268/268 [==============================] - 1s 2ms/step - loss: 0.3228 - accuracy: 0.8680 - val_loss: 0.3568 - val_accuracy: 0.8584\n",
            "Epoch 58/150\n",
            "268/268 [==============================] - 0s 2ms/step - loss: 0.3303 - accuracy: 0.8589 - val_loss: 0.3557 - val_accuracy: 0.8576\n",
            "Epoch 59/150\n",
            "268/268 [==============================] - 1s 2ms/step - loss: 0.3365 - accuracy: 0.8607 - val_loss: 0.3560 - val_accuracy: 0.8588\n",
            "Epoch 60/150\n",
            "268/268 [==============================] - 0s 2ms/step - loss: 0.3263 - accuracy: 0.8641 - val_loss: 0.3555 - val_accuracy: 0.8576\n",
            "Epoch 61/150\n",
            "268/268 [==============================] - 0s 2ms/step - loss: 0.3264 - accuracy: 0.8693 - val_loss: 0.3558 - val_accuracy: 0.8550\n",
            "Epoch 62/150\n",
            "268/268 [==============================] - 1s 2ms/step - loss: 0.3408 - accuracy: 0.8573 - val_loss: 0.3558 - val_accuracy: 0.8565\n",
            "Epoch 63/150\n",
            "268/268 [==============================] - 1s 2ms/step - loss: 0.3082 - accuracy: 0.8727 - val_loss: 0.3562 - val_accuracy: 0.8584\n",
            "Epoch 64/150\n",
            "268/268 [==============================] - 1s 2ms/step - loss: 0.3300 - accuracy: 0.8556 - val_loss: 0.3561 - val_accuracy: 0.8561\n",
            "Epoch 65/150\n",
            "268/268 [==============================] - 0s 2ms/step - loss: 0.3386 - accuracy: 0.8597 - val_loss: 0.3562 - val_accuracy: 0.8561\n",
            "Epoch 66/150\n",
            "268/268 [==============================] - 1s 2ms/step - loss: 0.3236 - accuracy: 0.8668 - val_loss: 0.3548 - val_accuracy: 0.8576\n",
            "Epoch 67/150\n",
            "268/268 [==============================] - 1s 2ms/step - loss: 0.3302 - accuracy: 0.8650 - val_loss: 0.3559 - val_accuracy: 0.8576\n",
            "Epoch 68/150\n",
            "268/268 [==============================] - 1s 2ms/step - loss: 0.3409 - accuracy: 0.8634 - val_loss: 0.3560 - val_accuracy: 0.8569\n",
            "Epoch 69/150\n",
            "268/268 [==============================] - 1s 2ms/step - loss: 0.3285 - accuracy: 0.8639 - val_loss: 0.3553 - val_accuracy: 0.8565\n",
            "Epoch 70/150\n",
            "268/268 [==============================] - 0s 2ms/step - loss: 0.3160 - accuracy: 0.8738 - val_loss: 0.3559 - val_accuracy: 0.8580\n",
            "Epoch 71/150\n",
            "268/268 [==============================] - 1s 2ms/step - loss: 0.3227 - accuracy: 0.8661 - val_loss: 0.3547 - val_accuracy: 0.8561\n",
            "Epoch 72/150\n",
            "268/268 [==============================] - 0s 2ms/step - loss: 0.3347 - accuracy: 0.8652 - val_loss: 0.3545 - val_accuracy: 0.8565\n",
            "Epoch 73/150\n",
            "268/268 [==============================] - 1s 2ms/step - loss: 0.3442 - accuracy: 0.8611 - val_loss: 0.3554 - val_accuracy: 0.8554\n",
            "Epoch 74/150\n",
            "268/268 [==============================] - 0s 2ms/step - loss: 0.3197 - accuracy: 0.8670 - val_loss: 0.3547 - val_accuracy: 0.8576\n",
            "Epoch 75/150\n",
            "268/268 [==============================] - 1s 2ms/step - loss: 0.3232 - accuracy: 0.8634 - val_loss: 0.3539 - val_accuracy: 0.8580\n",
            "Epoch 76/150\n",
            "268/268 [==============================] - 0s 2ms/step - loss: 0.3262 - accuracy: 0.8663 - val_loss: 0.3556 - val_accuracy: 0.8565\n",
            "Epoch 77/150\n",
            "268/268 [==============================] - 0s 2ms/step - loss: 0.3213 - accuracy: 0.8667 - val_loss: 0.3549 - val_accuracy: 0.8561\n",
            "Epoch 78/150\n",
            "268/268 [==============================] - 0s 2ms/step - loss: 0.3217 - accuracy: 0.8592 - val_loss: 0.3548 - val_accuracy: 0.8565\n",
            "Epoch 79/150\n",
            "268/268 [==============================] - 1s 2ms/step - loss: 0.3208 - accuracy: 0.8686 - val_loss: 0.3542 - val_accuracy: 0.8569\n",
            "Epoch 80/150\n",
            "268/268 [==============================] - 1s 2ms/step - loss: 0.3309 - accuracy: 0.8610 - val_loss: 0.3554 - val_accuracy: 0.8550\n",
            "Epoch 81/150\n",
            "268/268 [==============================] - 1s 2ms/step - loss: 0.3260 - accuracy: 0.8632 - val_loss: 0.3548 - val_accuracy: 0.8557\n",
            "Epoch 82/150\n",
            "268/268 [==============================] - 1s 2ms/step - loss: 0.3203 - accuracy: 0.8693 - val_loss: 0.3549 - val_accuracy: 0.8580\n",
            "Epoch 83/150\n",
            "268/268 [==============================] - 1s 2ms/step - loss: 0.3158 - accuracy: 0.8663 - val_loss: 0.3549 - val_accuracy: 0.8576\n",
            "Epoch 84/150\n",
            "268/268 [==============================] - 1s 2ms/step - loss: 0.3167 - accuracy: 0.8680 - val_loss: 0.3543 - val_accuracy: 0.8546\n",
            "Epoch 85/150\n",
            "268/268 [==============================] - 0s 2ms/step - loss: 0.3134 - accuracy: 0.8739 - val_loss: 0.3542 - val_accuracy: 0.8569\n",
            "Epoch 86/150\n",
            "268/268 [==============================] - 1s 2ms/step - loss: 0.3024 - accuracy: 0.8840 - val_loss: 0.3553 - val_accuracy: 0.8584\n",
            "Epoch 87/150\n",
            "268/268 [==============================] - 0s 2ms/step - loss: 0.3315 - accuracy: 0.8613 - val_loss: 0.3540 - val_accuracy: 0.8576\n",
            "Epoch 88/150\n",
            "268/268 [==============================] - 1s 2ms/step - loss: 0.3355 - accuracy: 0.8557 - val_loss: 0.3557 - val_accuracy: 0.8557\n",
            "Epoch 89/150\n",
            "268/268 [==============================] - 0s 2ms/step - loss: 0.3205 - accuracy: 0.8669 - val_loss: 0.3549 - val_accuracy: 0.8561\n",
            "Epoch 90/150\n",
            "268/268 [==============================] - 1s 2ms/step - loss: 0.3351 - accuracy: 0.8595 - val_loss: 0.3548 - val_accuracy: 0.8569\n",
            "Epoch 91/150\n",
            "268/268 [==============================] - 1s 2ms/step - loss: 0.3290 - accuracy: 0.8619 - val_loss: 0.3556 - val_accuracy: 0.8538\n",
            "Epoch 92/150\n",
            "268/268 [==============================] - 0s 2ms/step - loss: 0.3225 - accuracy: 0.8653 - val_loss: 0.3539 - val_accuracy: 0.8561\n",
            "Epoch 93/150\n",
            "268/268 [==============================] - 1s 2ms/step - loss: 0.3291 - accuracy: 0.8628 - val_loss: 0.3544 - val_accuracy: 0.8565\n",
            "Epoch 94/150\n",
            "268/268 [==============================] - 0s 2ms/step - loss: 0.3224 - accuracy: 0.8632 - val_loss: 0.3546 - val_accuracy: 0.8565\n",
            "Epoch 95/150\n",
            "268/268 [==============================] - 0s 2ms/step - loss: 0.3177 - accuracy: 0.8715 - val_loss: 0.3541 - val_accuracy: 0.8569\n",
            "Epoch 96/150\n",
            "268/268 [==============================] - 0s 2ms/step - loss: 0.3233 - accuracy: 0.8658 - val_loss: 0.3553 - val_accuracy: 0.8565\n",
            "Epoch 97/150\n",
            "268/268 [==============================] - 1s 2ms/step - loss: 0.3246 - accuracy: 0.8649 - val_loss: 0.3549 - val_accuracy: 0.8565\n",
            "Epoch 98/150\n",
            "268/268 [==============================] - 1s 2ms/step - loss: 0.3214 - accuracy: 0.8670 - val_loss: 0.3544 - val_accuracy: 0.8565\n",
            "Epoch 99/150\n",
            "268/268 [==============================] - 1s 2ms/step - loss: 0.3184 - accuracy: 0.8688 - val_loss: 0.3549 - val_accuracy: 0.8569\n",
            "Epoch 100/150\n",
            "268/268 [==============================] - 1s 2ms/step - loss: 0.3330 - accuracy: 0.8548 - val_loss: 0.3542 - val_accuracy: 0.8573\n",
            "Epoch 101/150\n",
            "268/268 [==============================] - 0s 2ms/step - loss: 0.3145 - accuracy: 0.8677 - val_loss: 0.3542 - val_accuracy: 0.8576\n",
            "Epoch 102/150\n",
            "268/268 [==============================] - 1s 2ms/step - loss: 0.3487 - accuracy: 0.8532 - val_loss: 0.3545 - val_accuracy: 0.8580\n",
            "Epoch 103/150\n",
            "268/268 [==============================] - 0s 2ms/step - loss: 0.3235 - accuracy: 0.8680 - val_loss: 0.3549 - val_accuracy: 0.8565\n",
            "Epoch 104/150\n",
            "268/268 [==============================] - 0s 2ms/step - loss: 0.3293 - accuracy: 0.8638 - val_loss: 0.3536 - val_accuracy: 0.8580\n",
            "Epoch 105/150\n",
            "268/268 [==============================] - 0s 2ms/step - loss: 0.3139 - accuracy: 0.8707 - val_loss: 0.3540 - val_accuracy: 0.8557\n",
            "Epoch 106/150\n",
            "268/268 [==============================] - 0s 2ms/step - loss: 0.3304 - accuracy: 0.8657 - val_loss: 0.3547 - val_accuracy: 0.8565\n",
            "Epoch 107/150\n",
            "268/268 [==============================] - 1s 2ms/step - loss: 0.3192 - accuracy: 0.8668 - val_loss: 0.3534 - val_accuracy: 0.8565\n",
            "Epoch 108/150\n",
            "268/268 [==============================] - 1s 2ms/step - loss: 0.3235 - accuracy: 0.8645 - val_loss: 0.3541 - val_accuracy: 0.8591\n",
            "Epoch 109/150\n",
            "268/268 [==============================] - 1s 2ms/step - loss: 0.3270 - accuracy: 0.8646 - val_loss: 0.3541 - val_accuracy: 0.8569\n",
            "Epoch 110/150\n",
            "268/268 [==============================] - 0s 2ms/step - loss: 0.3224 - accuracy: 0.8662 - val_loss: 0.3543 - val_accuracy: 0.8584\n",
            "Epoch 111/150\n",
            "268/268 [==============================] - 1s 2ms/step - loss: 0.3186 - accuracy: 0.8639 - val_loss: 0.3537 - val_accuracy: 0.8591\n",
            "Epoch 112/150\n",
            "268/268 [==============================] - 1s 2ms/step - loss: 0.3183 - accuracy: 0.8691 - val_loss: 0.3539 - val_accuracy: 0.8569\n",
            "Epoch 113/150\n",
            "268/268 [==============================] - 1s 2ms/step - loss: 0.3138 - accuracy: 0.8661 - val_loss: 0.3533 - val_accuracy: 0.8584\n",
            "Epoch 114/150\n",
            "268/268 [==============================] - 0s 2ms/step - loss: 0.3115 - accuracy: 0.8689 - val_loss: 0.3530 - val_accuracy: 0.8573\n",
            "Epoch 115/150\n",
            "268/268 [==============================] - 1s 2ms/step - loss: 0.3221 - accuracy: 0.8633 - val_loss: 0.3530 - val_accuracy: 0.8569\n",
            "Epoch 116/150\n",
            "268/268 [==============================] - 0s 2ms/step - loss: 0.3201 - accuracy: 0.8642 - val_loss: 0.3540 - val_accuracy: 0.8591\n",
            "Epoch 117/150\n",
            "268/268 [==============================] - 0s 2ms/step - loss: 0.3229 - accuracy: 0.8680 - val_loss: 0.3534 - val_accuracy: 0.8591\n",
            "Epoch 118/150\n",
            "268/268 [==============================] - 0s 2ms/step - loss: 0.3223 - accuracy: 0.8669 - val_loss: 0.3550 - val_accuracy: 0.8550\n",
            "Epoch 119/150\n",
            "268/268 [==============================] - 1s 2ms/step - loss: 0.3367 - accuracy: 0.8548 - val_loss: 0.3572 - val_accuracy: 0.8565\n",
            "Epoch 120/150\n",
            "268/268 [==============================] - 1s 2ms/step - loss: 0.3191 - accuracy: 0.8648 - val_loss: 0.3534 - val_accuracy: 0.8580\n",
            "Epoch 121/150\n",
            "268/268 [==============================] - 1s 2ms/step - loss: 0.3258 - accuracy: 0.8641 - val_loss: 0.3531 - val_accuracy: 0.8569\n",
            "Epoch 122/150\n",
            "268/268 [==============================] - 1s 2ms/step - loss: 0.3195 - accuracy: 0.8649 - val_loss: 0.3529 - val_accuracy: 0.8569\n",
            "Epoch 123/150\n",
            "268/268 [==============================] - 1s 2ms/step - loss: 0.3284 - accuracy: 0.8638 - val_loss: 0.3534 - val_accuracy: 0.8588\n",
            "Epoch 124/150\n",
            "268/268 [==============================] - 0s 2ms/step - loss: 0.3237 - accuracy: 0.8637 - val_loss: 0.3543 - val_accuracy: 0.8561\n",
            "Epoch 125/150\n",
            "268/268 [==============================] - 0s 2ms/step - loss: 0.3263 - accuracy: 0.8636 - val_loss: 0.3533 - val_accuracy: 0.8584\n",
            "Epoch 126/150\n",
            "268/268 [==============================] - 0s 2ms/step - loss: 0.3390 - accuracy: 0.8602 - val_loss: 0.3534 - val_accuracy: 0.8573\n",
            "Epoch 127/150\n",
            "268/268 [==============================] - 0s 2ms/step - loss: 0.3451 - accuracy: 0.8530 - val_loss: 0.3531 - val_accuracy: 0.8584\n",
            "Epoch 128/150\n",
            "268/268 [==============================] - 1s 2ms/step - loss: 0.3332 - accuracy: 0.8604 - val_loss: 0.3548 - val_accuracy: 0.8554\n",
            "Epoch 129/150\n",
            "268/268 [==============================] - 1s 2ms/step - loss: 0.3200 - accuracy: 0.8713 - val_loss: 0.3539 - val_accuracy: 0.8573\n",
            "Epoch 130/150\n",
            "268/268 [==============================] - 1s 2ms/step - loss: 0.3268 - accuracy: 0.8628 - val_loss: 0.3530 - val_accuracy: 0.8569\n",
            "Epoch 131/150\n",
            "268/268 [==============================] - 0s 2ms/step - loss: 0.3346 - accuracy: 0.8622 - val_loss: 0.3529 - val_accuracy: 0.8557\n",
            "Epoch 132/150\n",
            "268/268 [==============================] - 1s 2ms/step - loss: 0.3102 - accuracy: 0.8689 - val_loss: 0.3532 - val_accuracy: 0.8569\n",
            "Epoch 133/150\n",
            "268/268 [==============================] - 1s 2ms/step - loss: 0.3162 - accuracy: 0.8692 - val_loss: 0.3525 - val_accuracy: 0.8588\n",
            "Epoch 134/150\n",
            "268/268 [==============================] - 0s 2ms/step - loss: 0.3074 - accuracy: 0.8713 - val_loss: 0.3542 - val_accuracy: 0.8580\n",
            "Epoch 135/150\n",
            "268/268 [==============================] - 0s 2ms/step - loss: 0.3243 - accuracy: 0.8652 - val_loss: 0.3534 - val_accuracy: 0.8588\n",
            "Epoch 136/150\n",
            "268/268 [==============================] - 1s 2ms/step - loss: 0.3216 - accuracy: 0.8661 - val_loss: 0.3535 - val_accuracy: 0.8584\n",
            "Epoch 137/150\n",
            "268/268 [==============================] - 0s 2ms/step - loss: 0.3373 - accuracy: 0.8565 - val_loss: 0.3550 - val_accuracy: 0.8576\n",
            "Epoch 138/150\n",
            "268/268 [==============================] - 0s 2ms/step - loss: 0.3249 - accuracy: 0.8609 - val_loss: 0.3537 - val_accuracy: 0.8561\n",
            "Epoch 139/150\n",
            "268/268 [==============================] - 1s 2ms/step - loss: 0.3261 - accuracy: 0.8638 - val_loss: 0.3529 - val_accuracy: 0.8584\n",
            "Epoch 140/150\n",
            "268/268 [==============================] - 0s 2ms/step - loss: 0.3233 - accuracy: 0.8656 - val_loss: 0.3531 - val_accuracy: 0.8580\n",
            "Epoch 141/150\n",
            "268/268 [==============================] - 0s 2ms/step - loss: 0.3110 - accuracy: 0.8724 - val_loss: 0.3536 - val_accuracy: 0.8580\n",
            "Epoch 142/150\n",
            "268/268 [==============================] - 0s 2ms/step - loss: 0.3111 - accuracy: 0.8714 - val_loss: 0.3543 - val_accuracy: 0.8557\n",
            "Epoch 143/150\n",
            "268/268 [==============================] - 1s 2ms/step - loss: 0.3311 - accuracy: 0.8616 - val_loss: 0.3553 - val_accuracy: 0.8550\n",
            "Epoch 144/150\n",
            "268/268 [==============================] - 0s 2ms/step - loss: 0.3270 - accuracy: 0.8628 - val_loss: 0.3533 - val_accuracy: 0.8595\n",
            "Epoch 145/150\n",
            "268/268 [==============================] - 0s 2ms/step - loss: 0.3375 - accuracy: 0.8593 - val_loss: 0.3537 - val_accuracy: 0.8557\n",
            "Epoch 146/150\n",
            "268/268 [==============================] - 1s 2ms/step - loss: 0.3391 - accuracy: 0.8569 - val_loss: 0.3533 - val_accuracy: 0.8569\n",
            "Epoch 147/150\n",
            "268/268 [==============================] - 1s 2ms/step - loss: 0.3170 - accuracy: 0.8721 - val_loss: 0.3527 - val_accuracy: 0.8588\n",
            "Epoch 148/150\n",
            "268/268 [==============================] - 0s 2ms/step - loss: 0.3201 - accuracy: 0.8663 - val_loss: 0.3534 - val_accuracy: 0.8580\n",
            "Epoch 149/150\n",
            "268/268 [==============================] - 0s 2ms/step - loss: 0.3357 - accuracy: 0.8627 - val_loss: 0.3539 - val_accuracy: 0.8573\n",
            "Epoch 150/150\n",
            "268/268 [==============================] - 1s 2ms/step - loss: 0.3300 - accuracy: 0.8633 - val_loss: 0.3534 - val_accuracy: 0.8584\n"
          ],
          "name": "stdout"
        }
      ]
    },
    {
      "cell_type": "code",
      "metadata": {
        "id": "TsfHXAlmEVHQ"
      },
      "source": [
        "losses=pd.DataFrame(model.history.history)"
      ],
      "execution_count": 25,
      "outputs": []
    },
    {
      "cell_type": "code",
      "metadata": {
        "colab": {
          "base_uri": "https://localhost:8080/",
          "height": 282
        },
        "id": "39PT1BySE8Pv",
        "outputId": "663e2d03-c2c5-4d2d-fdea-5e152a9adbd4"
      },
      "source": [
        "losses.plot()"
      ],
      "execution_count": 26,
      "outputs": [
        {
          "output_type": "execute_result",
          "data": {
            "text/plain": [
              "<matplotlib.axes._subplots.AxesSubplot at 0x7f118215b2d0>"
            ]
          },
          "metadata": {
            "tags": []
          },
          "execution_count": 26
        },
        {
          "output_type": "display_data",
          "data": {
            "image/png": "[encoded data removed]",
            "text/plain": [
              "<Figure size 432x288 with 1 Axes>"
            ]
          },
          "metadata": {
            "tags": [],
            "needs_background": "light"
          }
        }
      ]
    },
    {
      "cell_type": "code",
      "metadata": {
        "id": "v0RU3M06FjND"
      },
      "source": [
        "###Visualize seperatly"
      ],
      "execution_count": 33,
      "outputs": []
    },
    {
      "cell_type": "markdown",
      "metadata": {
        "id": "uTQ_tQVEFqmw"
      },
      "source": [
        ""
      ]
    },
    {
      "cell_type": "markdown",
      "metadata": {
        "id": "ow2L-HGeFsCc"
      },
      "source": [
        "***Visualize Seperatly***"
      ]
    },
    {
      "cell_type": "code",
      "metadata": {
        "colab": {
          "base_uri": "https://localhost:8080/",
          "height": 312
        },
        "id": "CI_7eMLHE9yJ",
        "outputId": "88838c8a-9af9-4ce6-aff2-49f315dd1d4f"
      },
      "source": [
        "print(model_history.history.keys())\n",
        "# summarize history for accuracy\n",
        "plt.plot(model_history.history['accuracy'])\n",
        "plt.plot(model_history.history['val_accuracy'])\n",
        "plt.title('model accuracy')\n",
        "plt.ylabel('accuracy')\n",
        "plt.xlabel('epoch')\n",
        "plt.legend(['train', 'test'], loc='upper left')\n",
        "plt.show()"
      ],
      "execution_count": 29,
      "outputs": [
        {
          "output_type": "stream",
          "text": [
            "dict_keys(['loss', 'accuracy', 'val_loss', 'val_accuracy'])\n"
          ],
          "name": "stdout"
        },
        {
          "output_type": "display_data",
          "data": {
            "image/png": "[encoded data removed]",
            "text/plain": [
              "<Figure size 432x288 with 1 Axes>"
            ]
          },
          "metadata": {
            "tags": [],
            "needs_background": "light"
          }
        }
      ]
    },
    {
      "cell_type": "code",
      "metadata": {
        "colab": {
          "base_uri": "https://localhost:8080/",
          "height": 295
        },
        "id": "nkR9kUjFFMU0",
        "outputId": "f9a5f42f-5cf6-4843-d9b8-97e437630674"
      },
      "source": [
        "# summarize history for loss\n",
        "plt.plot(model_history.history['loss'])\n",
        "plt.plot(model_history.history['val_loss'])\n",
        "plt.title('model loss')\n",
        "plt.ylabel('loss')\n",
        "plt.xlabel('epoch')\n",
        "plt.legend(['train', 'test'], loc='upper left')\n",
        "plt.show()"
      ],
      "execution_count": 30,
      "outputs": [
        {
          "output_type": "display_data",
          "data": {
            "image/png": "[encoded data removed]",
            "text/plain": [
              "<Figure size 432x288 with 1 Axes>"
            ]
          },
          "metadata": {
            "tags": [],
            "needs_background": "light"
          }
        }
      ]
    },
    {
      "cell_type": "code",
      "metadata": {
        "id": "WcZooEP2FXFj"
      },
      "source": [
        "# Predicting the Test set results\n",
        "y_pred = model.predict(X_test)\n",
        "y_pred = (y_pred > 0.5)"
      ],
      "execution_count": 37,
      "outputs": []
    },
    {
      "cell_type": "code",
      "metadata": {
        "colab": {
          "base_uri": "https://localhost:8080/"
        },
        "id": "XwgG-GqmF67u",
        "outputId": "63d886b5-136b-4eba-bd8b-7562cdace9d1"
      },
      "source": [
        "# Making the Confusion Matrix\n",
        "from sklearn.metrics import confusion_matrix,classification_report\n",
        "print(classification_report(y_test,y_pred))\n",
        "print(confusion_matrix(y_test,y_pred))"
      ],
      "execution_count": 39,
      "outputs": [
        {
          "output_type": "stream",
          "text": [
            "              precision    recall  f1-score   support\n",
            "\n",
            "           0       0.89      0.94      0.91      1595\n",
            "           1       0.70      0.52      0.60       405\n",
            "\n",
            "    accuracy                           0.86      2000\n",
            "   macro avg       0.79      0.73      0.76      2000\n",
            "weighted avg       0.85      0.86      0.85      2000\n",
            "\n",
            "[[1505   90]\n",
            " [ 194  211]]\n"
          ],
          "name": "stdout"
        }
      ]
    },
    {
      "cell_type": "code",
      "metadata": {
        "id": "guFyEZdMF-EN"
      },
      "source": [
        ""
      ],
      "execution_count": null,
      "outputs": []
    }
  ]
}