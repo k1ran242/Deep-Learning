{
  "nbformat": 4,
  "nbformat_minor": 0,
  "metadata": {
    "kernelspec": {
      "display_name": "Python 3",
      "language": "python",
      "name": "python3"
    },
    "language_info": {
      "codemirror_mode": {
        "name": "ipython",
        "version": 3
      },
      "file_extension": ".py",
      "mimetype": "text/x-python",
      "name": "python",
      "nbconvert_exporter": "python",
      "pygments_lexer": "ipython3",
      "version": "3.8.3"
    },
    "colab": {
      "name": "loan_prediction.ipynb",
      "provenance": [],
      "include_colab_link": true
    },
    "accelerator": "GPU"
  },
  "cells": [
    {
      "cell_type": "markdown",
      "metadata": {
        "id": "view-in-github",
        "colab_type": "text"
      },
      "source": [
        "<a href=\"https://colab.research.google.com/github/k1ran242/Deep-Learning/blob/main/loan_prediction.ipynb\" target=\"_parent\"><img src=\"https://colab.research.google.com/assets/colab-badge.svg\" alt=\"Open In Colab\"/></a>"
      ]
    },
    {
      "cell_type": "code",
      "metadata": {
        "id": "xJN5BPrY_F16"
      },
      "source": [
        "import pandas as pd\n",
        "import numpy as np\n",
        "import matplotlib.pyplot as plt\n",
        "import seaborn as sns \n",
        "%matplotlib inline"
      ],
      "execution_count": null,
      "outputs": []
    },
    {
      "cell_type": "code",
      "metadata": {
        "colab": {
          "base_uri": "https://localhost:8080/",
          "height": 240
        },
        "id": "PcMj4qEp_F1-",
        "outputId": "862040b3-3b8b-4ee4-d681-8a6d6cd02d17"
      },
      "source": [
        "data=pd.read_csv('/content/drive/MyDrive/Colab Notebooks/Loan_prediction.csv')\n",
        "data.head()"
      ],
      "execution_count": 5,
      "outputs": [
        {
          "output_type": "execute_result",
          "data": {
            "text/html": [
              "<div>\n",
              "<style scoped>\n",
              "    .dataframe tbody tr th:only-of-type {\n",
              "        vertical-align: middle;\n",
              "    }\n",
              "\n",
              "    .dataframe tbody tr th {\n",
              "        vertical-align: top;\n",
              "    }\n",
              "\n",
              "    .dataframe thead th {\n",
              "        text-align: right;\n",
              "    }\n",
              "</style>\n",
              "<table border=\"1\" class=\"dataframe\">\n",
              "  <thead>\n",
              "    <tr style=\"text-align: right;\">\n",
              "      <th></th>\n",
              "      <th>Loan_ID</th>\n",
              "      <th>Gender</th>\n",
              "      <th>Married</th>\n",
              "      <th>Dependents</th>\n",
              "      <th>Education</th>\n",
              "      <th>Self_Employed</th>\n",
              "      <th>ApplicantIncome</th>\n",
              "      <th>CoapplicantIncome</th>\n",
              "      <th>LoanAmount</th>\n",
              "      <th>Loan_Amount_Term</th>\n",
              "      <th>Credit_History</th>\n",
              "      <th>Property_Area</th>\n",
              "      <th>Loan_Status</th>\n",
              "    </tr>\n",
              "  </thead>\n",
              "  <tbody>\n",
              "    <tr>\n",
              "      <th>0</th>\n",
              "      <td>LP001002</td>\n",
              "      <td>Male</td>\n",
              "      <td>No</td>\n",
              "      <td>0</td>\n",
              "      <td>Graduate</td>\n",
              "      <td>No</td>\n",
              "      <td>5849</td>\n",
              "      <td>0.0</td>\n",
              "      <td>NaN</td>\n",
              "      <td>360.0</td>\n",
              "      <td>1.0</td>\n",
              "      <td>Urban</td>\n",
              "      <td>Y</td>\n",
              "    </tr>\n",
              "    <tr>\n",
              "      <th>1</th>\n",
              "      <td>LP001003</td>\n",
              "      <td>Male</td>\n",
              "      <td>Yes</td>\n",
              "      <td>1</td>\n",
              "      <td>Graduate</td>\n",
              "      <td>No</td>\n",
              "      <td>4583</td>\n",
              "      <td>1508.0</td>\n",
              "      <td>128.0</td>\n",
              "      <td>360.0</td>\n",
              "      <td>1.0</td>\n",
              "      <td>Rural</td>\n",
              "      <td>N</td>\n",
              "    </tr>\n",
              "    <tr>\n",
              "      <th>2</th>\n",
              "      <td>LP001005</td>\n",
              "      <td>Male</td>\n",
              "      <td>Yes</td>\n",
              "      <td>0</td>\n",
              "      <td>Graduate</td>\n",
              "      <td>Yes</td>\n",
              "      <td>3000</td>\n",
              "      <td>0.0</td>\n",
              "      <td>66.0</td>\n",
              "      <td>360.0</td>\n",
              "      <td>1.0</td>\n",
              "      <td>Urban</td>\n",
              "      <td>Y</td>\n",
              "    </tr>\n",
              "    <tr>\n",
              "      <th>3</th>\n",
              "      <td>LP001006</td>\n",
              "      <td>Male</td>\n",
              "      <td>Yes</td>\n",
              "      <td>0</td>\n",
              "      <td>Not Graduate</td>\n",
              "      <td>No</td>\n",
              "      <td>2583</td>\n",
              "      <td>2358.0</td>\n",
              "      <td>120.0</td>\n",
              "      <td>360.0</td>\n",
              "      <td>1.0</td>\n",
              "      <td>Urban</td>\n",
              "      <td>Y</td>\n",
              "    </tr>\n",
              "    <tr>\n",
              "      <th>4</th>\n",
              "      <td>LP001008</td>\n",
              "      <td>Male</td>\n",
              "      <td>No</td>\n",
              "      <td>0</td>\n",
              "      <td>Graduate</td>\n",
              "      <td>No</td>\n",
              "      <td>6000</td>\n",
              "      <td>0.0</td>\n",
              "      <td>141.0</td>\n",
              "      <td>360.0</td>\n",
              "      <td>1.0</td>\n",
              "      <td>Urban</td>\n",
              "      <td>Y</td>\n",
              "    </tr>\n",
              "  </tbody>\n",
              "</table>\n",
              "</div>"
            ],
            "text/plain": [
              "    Loan_ID Gender Married  ... Credit_History Property_Area Loan_Status\n",
              "0  LP001002   Male      No  ...            1.0         Urban           Y\n",
              "1  LP001003   Male     Yes  ...            1.0         Rural           N\n",
              "2  LP001005   Male     Yes  ...            1.0         Urban           Y\n",
              "3  LP001006   Male     Yes  ...            1.0         Urban           Y\n",
              "4  LP001008   Male      No  ...            1.0         Urban           Y\n",
              "\n",
              "[5 rows x 13 columns]"
            ]
          },
          "metadata": {
            "tags": []
          },
          "execution_count": 5
        }
      ]
    },
    {
      "cell_type": "code",
      "metadata": {
        "colab": {
          "base_uri": "https://localhost:8080/"
        },
        "id": "VxKvOxOoATTr",
        "outputId": "ab47f711-bccc-41a8-ebc7-c0bc5010793e"
      },
      "source": [
        "from google.colab import drive\n",
        "drive.mount('/content/drive')"
      ],
      "execution_count": null,
      "outputs": [
        {
          "output_type": "stream",
          "text": [
            "Drive already mounted at /content/drive; to attempt to forcibly remount, call drive.mount(\"/content/drive\", force_remount=True).\n"
          ],
          "name": "stdout"
        }
      ]
    },
    {
      "cell_type": "code",
      "metadata": {
        "id": "TWnUF2Pf_F1_",
        "colab": {
          "base_uri": "https://localhost:8080/"
        },
        "outputId": "ac5e66f5-7539-4695-cae4-6c10d8a740f9"
      },
      "source": [
        "data.info()"
      ],
      "execution_count": 6,
      "outputs": [
        {
          "output_type": "stream",
          "text": [
            "<class 'pandas.core.frame.DataFrame'>\n",
            "RangeIndex: 614 entries, 0 to 613\n",
            "Data columns (total 13 columns):\n",
            " #   Column             Non-Null Count  Dtype  \n",
            "---  ------             --------------  -----  \n",
            " 0   Loan_ID            614 non-null    object \n",
            " 1   Gender             601 non-null    object \n",
            " 2   Married            611 non-null    object \n",
            " 3   Dependents         599 non-null    object \n",
            " 4   Education          614 non-null    object \n",
            " 5   Self_Employed      582 non-null    object \n",
            " 6   ApplicantIncome    614 non-null    int64  \n",
            " 7   CoapplicantIncome  614 non-null    float64\n",
            " 8   LoanAmount         592 non-null    float64\n",
            " 9   Loan_Amount_Term   600 non-null    float64\n",
            " 10  Credit_History     564 non-null    float64\n",
            " 11  Property_Area      614 non-null    object \n",
            " 12  Loan_Status        614 non-null    object \n",
            "dtypes: float64(4), int64(1), object(8)\n",
            "memory usage: 62.5+ KB\n"
          ],
          "name": "stdout"
        }
      ]
    },
    {
      "cell_type": "code",
      "metadata": {
        "id": "bsUlogh9_F2A",
        "colab": {
          "base_uri": "https://localhost:8080/",
          "height": 295
        },
        "outputId": "6f48e48b-3aad-4edd-ab2f-0089c91b50a5"
      },
      "source": [
        "data.describe()"
      ],
      "execution_count": 7,
      "outputs": [
        {
          "output_type": "execute_result",
          "data": {
            "text/html": [
              "<div>\n",
              "<style scoped>\n",
              "    .dataframe tbody tr th:only-of-type {\n",
              "        vertical-align: middle;\n",
              "    }\n",
              "\n",
              "    .dataframe tbody tr th {\n",
              "        vertical-align: top;\n",
              "    }\n",
              "\n",
              "    .dataframe thead th {\n",
              "        text-align: right;\n",
              "    }\n",
              "</style>\n",
              "<table border=\"1\" class=\"dataframe\">\n",
              "  <thead>\n",
              "    <tr style=\"text-align: right;\">\n",
              "      <th></th>\n",
              "      <th>ApplicantIncome</th>\n",
              "      <th>CoapplicantIncome</th>\n",
              "      <th>LoanAmount</th>\n",
              "      <th>Loan_Amount_Term</th>\n",
              "      <th>Credit_History</th>\n",
              "    </tr>\n",
              "  </thead>\n",
              "  <tbody>\n",
              "    <tr>\n",
              "      <th>count</th>\n",
              "      <td>614.000000</td>\n",
              "      <td>614.000000</td>\n",
              "      <td>592.000000</td>\n",
              "      <td>600.00000</td>\n",
              "      <td>564.000000</td>\n",
              "    </tr>\n",
              "    <tr>\n",
              "      <th>mean</th>\n",
              "      <td>5403.459283</td>\n",
              "      <td>1621.245798</td>\n",
              "      <td>146.412162</td>\n",
              "      <td>342.00000</td>\n",
              "      <td>0.842199</td>\n",
              "    </tr>\n",
              "    <tr>\n",
              "      <th>std</th>\n",
              "      <td>6109.041673</td>\n",
              "      <td>2926.248369</td>\n",
              "      <td>85.587325</td>\n",
              "      <td>65.12041</td>\n",
              "      <td>0.364878</td>\n",
              "    </tr>\n",
              "    <tr>\n",
              "      <th>min</th>\n",
              "      <td>150.000000</td>\n",
              "      <td>0.000000</td>\n",
              "      <td>9.000000</td>\n",
              "      <td>12.00000</td>\n",
              "      <td>0.000000</td>\n",
              "    </tr>\n",
              "    <tr>\n",
              "      <th>25%</th>\n",
              "      <td>2877.500000</td>\n",
              "      <td>0.000000</td>\n",
              "      <td>100.000000</td>\n",
              "      <td>360.00000</td>\n",
              "      <td>1.000000</td>\n",
              "    </tr>\n",
              "    <tr>\n",
              "      <th>50%</th>\n",
              "      <td>3812.500000</td>\n",
              "      <td>1188.500000</td>\n",
              "      <td>128.000000</td>\n",
              "      <td>360.00000</td>\n",
              "      <td>1.000000</td>\n",
              "    </tr>\n",
              "    <tr>\n",
              "      <th>75%</th>\n",
              "      <td>5795.000000</td>\n",
              "      <td>2297.250000</td>\n",
              "      <td>168.000000</td>\n",
              "      <td>360.00000</td>\n",
              "      <td>1.000000</td>\n",
              "    </tr>\n",
              "    <tr>\n",
              "      <th>max</th>\n",
              "      <td>81000.000000</td>\n",
              "      <td>41667.000000</td>\n",
              "      <td>700.000000</td>\n",
              "      <td>480.00000</td>\n",
              "      <td>1.000000</td>\n",
              "    </tr>\n",
              "  </tbody>\n",
              "</table>\n",
              "</div>"
            ],
            "text/plain": [
              "       ApplicantIncome  CoapplicantIncome  ...  Loan_Amount_Term  Credit_History\n",
              "count       614.000000         614.000000  ...         600.00000      564.000000\n",
              "mean       5403.459283        1621.245798  ...         342.00000        0.842199\n",
              "std        6109.041673        2926.248369  ...          65.12041        0.364878\n",
              "min         150.000000           0.000000  ...          12.00000        0.000000\n",
              "25%        2877.500000           0.000000  ...         360.00000        1.000000\n",
              "50%        3812.500000        1188.500000  ...         360.00000        1.000000\n",
              "75%        5795.000000        2297.250000  ...         360.00000        1.000000\n",
              "max       81000.000000       41667.000000  ...         480.00000        1.000000\n",
              "\n",
              "[8 rows x 5 columns]"
            ]
          },
          "metadata": {
            "tags": []
          },
          "execution_count": 7
        }
      ]
    },
    {
      "cell_type": "code",
      "metadata": {
        "id": "pZuz7KsU_F2A",
        "colab": {
          "base_uri": "https://localhost:8080/",
          "height": 482
        },
        "outputId": "fba42a29-8c3e-4798-fce2-cd85f097becb"
      },
      "source": [
        "# Checking Null Values\n",
        "plt.figure(figsize=(12,6))\n",
        "sns.heatmap(data.isnull())\n"
      ],
      "execution_count": 8,
      "outputs": [
        {
          "output_type": "execute_result",
          "data": {
            "text/plain": [
              "<matplotlib.axes._subplots.AxesSubplot at 0x7f847ae7f2d0>"
            ]
          },
          "metadata": {
            "tags": []
          },
          "execution_count": 8
        },
        {
          "output_type": "display_data",
          "data": {
            "image/png": "[encoded data removed]",
            "text/plain": [
              "<Figure size 864x432 with 2 Axes>"
            ]
          },
          "metadata": {
            "tags": [],
            "needs_background": "light"
          }
        }
      ]
    },
    {
      "cell_type": "code",
      "metadata": {
        "id": "hyQa5Hpn_F2B",
        "colab": {
          "base_uri": "https://localhost:8080/"
        },
        "outputId": "0e4a9187-851d-4ea0-ad03-414048fce9fa"
      },
      "source": [
        "data.isnull().sum()"
      ],
      "execution_count": 9,
      "outputs": [
        {
          "output_type": "execute_result",
          "data": {
            "text/plain": [
              "Loan_ID               0\n",
              "Gender               13\n",
              "Married               3\n",
              "Dependents           15\n",
              "Education             0\n",
              "Self_Employed        32\n",
              "ApplicantIncome       0\n",
              "CoapplicantIncome     0\n",
              "LoanAmount           22\n",
              "Loan_Amount_Term     14\n",
              "Credit_History       50\n",
              "Property_Area         0\n",
              "Loan_Status           0\n",
              "dtype: int64"
            ]
          },
          "metadata": {
            "tags": []
          },
          "execution_count": 9
        }
      ]
    },
    {
      "cell_type": "code",
      "metadata": {
        "id": "K4ZJUkvo_F2B",
        "colab": {
          "base_uri": "https://localhost:8080/",
          "height": 383
        },
        "outputId": "1e6384f5-8b05-4dd3-c109-22ee4adfac2c"
      },
      "source": [
        "# visualizing feature \n",
        "plt.figure()\n",
        "plt.subplot(1, 2, 1)\n",
        "sns.countplot(data['Married'])\n",
        "plt.subplot(1, 2, 2)\n",
        "sns.countplot(data['Dependents'])"
      ],
      "execution_count": 10,
      "outputs": [
        {
          "output_type": "stream",
          "text": [
            "/usr/local/lib/python3.7/dist-packages/seaborn/_decorators.py:43: FutureWarning: Pass the following variable as a keyword arg: x. From version 0.12, the only valid positional argument will be `data`, and passing other arguments without an explicit keyword will result in an error or misinterpretation.\n",
            "  FutureWarning\n",
            "/usr/local/lib/python3.7/dist-packages/seaborn/_decorators.py:43: FutureWarning: Pass the following variable as a keyword arg: x. From version 0.12, the only valid positional argument will be `data`, and passing other arguments without an explicit keyword will result in an error or misinterpretation.\n",
            "  FutureWarning\n"
          ],
          "name": "stderr"
        },
        {
          "output_type": "execute_result",
          "data": {
            "text/plain": [
              "<matplotlib.axes._subplots.AxesSubplot at 0x7f8472c9e850>"
            ]
          },
          "metadata": {
            "tags": []
          },
          "execution_count": 10
        },
        {
          "output_type": "display_data",
          "data": {
            "image/png": "[encoded data removed]",
            "text/plain": [
              "<Figure size 432x288 with 2 Axes>"
            ]
          },
          "metadata": {
            "tags": [],
            "needs_background": "light"
          }
        }
      ]
    },
    {
      "cell_type": "code",
      "metadata": {
        "id": "xMtKgbHc_F2B",
        "colab": {
          "base_uri": "https://localhost:8080/",
          "height": 387
        },
        "outputId": "0d2570e8-2e17-44ae-e06a-fecd90e3f38c"
      },
      "source": [
        "plt.figure()\n",
        "plt.subplot(1, 2, 1)\n",
        "sns.countplot(data['Education'])\n",
        "plt.subplot(1, 2, 2)\n",
        "sns.countplot(data['Self_Employed'])"
      ],
      "execution_count": 11,
      "outputs": [
        {
          "output_type": "stream",
          "text": [
            "/usr/local/lib/python3.7/dist-packages/seaborn/_decorators.py:43: FutureWarning: Pass the following variable as a keyword arg: x. From version 0.12, the only valid positional argument will be `data`, and passing other arguments without an explicit keyword will result in an error or misinterpretation.\n",
            "  FutureWarning\n",
            "/usr/local/lib/python3.7/dist-packages/seaborn/_decorators.py:43: FutureWarning: Pass the following variable as a keyword arg: x. From version 0.12, the only valid positional argument will be `data`, and passing other arguments without an explicit keyword will result in an error or misinterpretation.\n",
            "  FutureWarning\n"
          ],
          "name": "stderr"
        },
        {
          "output_type": "execute_result",
          "data": {
            "text/plain": [
              "<matplotlib.axes._subplots.AxesSubplot at 0x7f8472758410>"
            ]
          },
          "metadata": {
            "tags": []
          },
          "execution_count": 11
        },
        {
          "output_type": "display_data",
          "data": {
            "image/png": "[encoded data removed]",
            "text/plain": [
              "<Figure size 432x288 with 2 Axes>"
            ]
          },
          "metadata": {
            "tags": [],
            "needs_background": "light"
          }
        }
      ]
    },
    {
      "cell_type": "markdown",
      "metadata": {
        "id": "ctNSU7eI_F2C"
      },
      "source": [
        "''' by looking at the graphs we can say that features are imbalance so we fill null values by Random Sample Imputation\n",
        "Creating function that simultaniously fill null values for other features too'''"
      ]
    },
    {
      "cell_type": "code",
      "metadata": {
        "id": "7Xcrf57E_F2C"
      },
      "source": [
        "def random_sampler(data,feature):\n",
        "    data[feature+'_random']=data[feature]\n",
        "    random_sample=data[feature].dropna().sample(data[feature].isnull().sum(),random_state=101)\n",
        "    random_sample.index=data[data[feature].isnull()].index\n",
        "    data.loc[data[feature].isnull(),feature+'_random']=random_sample"
      ],
      "execution_count": 12,
      "outputs": []
    },
    {
      "cell_type": "code",
      "metadata": {
        "id": "sgA5DoBl_F2D"
      },
      "source": [
        "random_sampler(data,'Gender')\n",
        "random_sampler(data,'Married')\n",
        "random_sampler(data,'Education')\n",
        "random_sampler(data,'Self_Employed')\n",
        "random_sampler(data,'Dependents')"
      ],
      "execution_count": 13,
      "outputs": []
    },
    {
      "cell_type": "code",
      "metadata": {
        "id": "-wzd3tXu_F2D",
        "colab": {
          "base_uri": "https://localhost:8080/",
          "height": 240
        },
        "outputId": "58fdc61a-5906-4187-df0c-8ec64098058c"
      },
      "source": [
        "data.head()"
      ],
      "execution_count": 14,
      "outputs": [
        {
          "output_type": "execute_result",
          "data": {
            "text/html": [
              "<div>\n",
              "<style scoped>\n",
              "    .dataframe tbody tr th:only-of-type {\n",
              "        vertical-align: middle;\n",
              "    }\n",
              "\n",
              "    .dataframe tbody tr th {\n",
              "        vertical-align: top;\n",
              "    }\n",
              "\n",
              "    .dataframe thead th {\n",
              "        text-align: right;\n",
              "    }\n",
              "</style>\n",
              "<table border=\"1\" class=\"dataframe\">\n",
              "  <thead>\n",
              "    <tr style=\"text-align: right;\">\n",
              "      <th></th>\n",
              "      <th>Loan_ID</th>\n",
              "      <th>Gender</th>\n",
              "      <th>Married</th>\n",
              "      <th>Dependents</th>\n",
              "      <th>Education</th>\n",
              "      <th>Self_Employed</th>\n",
              "      <th>ApplicantIncome</th>\n",
              "      <th>CoapplicantIncome</th>\n",
              "      <th>LoanAmount</th>\n",
              "      <th>Loan_Amount_Term</th>\n",
              "      <th>Credit_History</th>\n",
              "      <th>Property_Area</th>\n",
              "      <th>Loan_Status</th>\n",
              "      <th>Gender_random</th>\n",
              "      <th>Married_random</th>\n",
              "      <th>Education_random</th>\n",
              "      <th>Self_Employed_random</th>\n",
              "      <th>Dependents_random</th>\n",
              "    </tr>\n",
              "  </thead>\n",
              "  <tbody>\n",
              "    <tr>\n",
              "      <th>0</th>\n",
              "      <td>LP001002</td>\n",
              "      <td>Male</td>\n",
              "      <td>No</td>\n",
              "      <td>0</td>\n",
              "      <td>Graduate</td>\n",
              "      <td>No</td>\n",
              "      <td>5849</td>\n",
              "      <td>0.0</td>\n",
              "      <td>NaN</td>\n",
              "      <td>360.0</td>\n",
              "      <td>1.0</td>\n",
              "      <td>Urban</td>\n",
              "      <td>Y</td>\n",
              "      <td>Male</td>\n",
              "      <td>No</td>\n",
              "      <td>Graduate</td>\n",
              "      <td>No</td>\n",
              "      <td>0</td>\n",
              "    </tr>\n",
              "    <tr>\n",
              "      <th>1</th>\n",
              "      <td>LP001003</td>\n",
              "      <td>Male</td>\n",
              "      <td>Yes</td>\n",
              "      <td>1</td>\n",
              "      <td>Graduate</td>\n",
              "      <td>No</td>\n",
              "      <td>4583</td>\n",
              "      <td>1508.0</td>\n",
              "      <td>128.0</td>\n",
              "      <td>360.0</td>\n",
              "      <td>1.0</td>\n",
              "      <td>Rural</td>\n",
              "      <td>N</td>\n",
              "      <td>Male</td>\n",
              "      <td>Yes</td>\n",
              "      <td>Graduate</td>\n",
              "      <td>No</td>\n",
              "      <td>1</td>\n",
              "    </tr>\n",
              "    <tr>\n",
              "      <th>2</th>\n",
              "      <td>LP001005</td>\n",
              "      <td>Male</td>\n",
              "      <td>Yes</td>\n",
              "      <td>0</td>\n",
              "      <td>Graduate</td>\n",
              "      <td>Yes</td>\n",
              "      <td>3000</td>\n",
              "      <td>0.0</td>\n",
              "      <td>66.0</td>\n",
              "      <td>360.0</td>\n",
              "      <td>1.0</td>\n",
              "      <td>Urban</td>\n",
              "      <td>Y</td>\n",
              "      <td>Male</td>\n",
              "      <td>Yes</td>\n",
              "      <td>Graduate</td>\n",
              "      <td>Yes</td>\n",
              "      <td>0</td>\n",
              "    </tr>\n",
              "    <tr>\n",
              "      <th>3</th>\n",
              "      <td>LP001006</td>\n",
              "      <td>Male</td>\n",
              "      <td>Yes</td>\n",
              "      <td>0</td>\n",
              "      <td>Not Graduate</td>\n",
              "      <td>No</td>\n",
              "      <td>2583</td>\n",
              "      <td>2358.0</td>\n",
              "      <td>120.0</td>\n",
              "      <td>360.0</td>\n",
              "      <td>1.0</td>\n",
              "      <td>Urban</td>\n",
              "      <td>Y</td>\n",
              "      <td>Male</td>\n",
              "      <td>Yes</td>\n",
              "      <td>Not Graduate</td>\n",
              "      <td>No</td>\n",
              "      <td>0</td>\n",
              "    </tr>\n",
              "    <tr>\n",
              "      <th>4</th>\n",
              "      <td>LP001008</td>\n",
              "      <td>Male</td>\n",
              "      <td>No</td>\n",
              "      <td>0</td>\n",
              "      <td>Graduate</td>\n",
              "      <td>No</td>\n",
              "      <td>6000</td>\n",
              "      <td>0.0</td>\n",
              "      <td>141.0</td>\n",
              "      <td>360.0</td>\n",
              "      <td>1.0</td>\n",
              "      <td>Urban</td>\n",
              "      <td>Y</td>\n",
              "      <td>Male</td>\n",
              "      <td>No</td>\n",
              "      <td>Graduate</td>\n",
              "      <td>No</td>\n",
              "      <td>0</td>\n",
              "    </tr>\n",
              "  </tbody>\n",
              "</table>\n",
              "</div>"
            ],
            "text/plain": [
              "    Loan_ID Gender  ... Self_Employed_random Dependents_random\n",
              "0  LP001002   Male  ...                   No                 0\n",
              "1  LP001003   Male  ...                   No                 1\n",
              "2  LP001005   Male  ...                  Yes                 0\n",
              "3  LP001006   Male  ...                   No                 0\n",
              "4  LP001008   Male  ...                   No                 0\n",
              "\n",
              "[5 rows x 18 columns]"
            ]
          },
          "metadata": {
            "tags": []
          },
          "execution_count": 14
        }
      ]
    },
    {
      "cell_type": "code",
      "metadata": {
        "id": "OKBnxEDw_F2D"
      },
      "source": [
        "df=data.drop(['Gender','Married','Dependents','Education','Self_Employed'],axis=1)"
      ],
      "execution_count": 15,
      "outputs": []
    },
    {
      "cell_type": "code",
      "metadata": {
        "id": "LVA55-Ql_F2D",
        "colab": {
          "base_uri": "https://localhost:8080/",
          "height": 223
        },
        "outputId": "b6059d68-0123-40ab-f232-8d5b5a70de9d"
      },
      "source": [
        "df.head()"
      ],
      "execution_count": 16,
      "outputs": [
        {
          "output_type": "execute_result",
          "data": {
            "text/html": [
              "<div>\n",
              "<style scoped>\n",
              "    .dataframe tbody tr th:only-of-type {\n",
              "        vertical-align: middle;\n",
              "    }\n",
              "\n",
              "    .dataframe tbody tr th {\n",
              "        vertical-align: top;\n",
              "    }\n",
              "\n",
              "    .dataframe thead th {\n",
              "        text-align: right;\n",
              "    }\n",
              "</style>\n",
              "<table border=\"1\" class=\"dataframe\">\n",
              "  <thead>\n",
              "    <tr style=\"text-align: right;\">\n",
              "      <th></th>\n",
              "      <th>Loan_ID</th>\n",
              "      <th>ApplicantIncome</th>\n",
              "      <th>CoapplicantIncome</th>\n",
              "      <th>LoanAmount</th>\n",
              "      <th>Loan_Amount_Term</th>\n",
              "      <th>Credit_History</th>\n",
              "      <th>Property_Area</th>\n",
              "      <th>Loan_Status</th>\n",
              "      <th>Gender_random</th>\n",
              "      <th>Married_random</th>\n",
              "      <th>Education_random</th>\n",
              "      <th>Self_Employed_random</th>\n",
              "      <th>Dependents_random</th>\n",
              "    </tr>\n",
              "  </thead>\n",
              "  <tbody>\n",
              "    <tr>\n",
              "      <th>0</th>\n",
              "      <td>LP001002</td>\n",
              "      <td>5849</td>\n",
              "      <td>0.0</td>\n",
              "      <td>NaN</td>\n",
              "      <td>360.0</td>\n",
              "      <td>1.0</td>\n",
              "      <td>Urban</td>\n",
              "      <td>Y</td>\n",
              "      <td>Male</td>\n",
              "      <td>No</td>\n",
              "      <td>Graduate</td>\n",
              "      <td>No</td>\n",
              "      <td>0</td>\n",
              "    </tr>\n",
              "    <tr>\n",
              "      <th>1</th>\n",
              "      <td>LP001003</td>\n",
              "      <td>4583</td>\n",
              "      <td>1508.0</td>\n",
              "      <td>128.0</td>\n",
              "      <td>360.0</td>\n",
              "      <td>1.0</td>\n",
              "      <td>Rural</td>\n",
              "      <td>N</td>\n",
              "      <td>Male</td>\n",
              "      <td>Yes</td>\n",
              "      <td>Graduate</td>\n",
              "      <td>No</td>\n",
              "      <td>1</td>\n",
              "    </tr>\n",
              "    <tr>\n",
              "      <th>2</th>\n",
              "      <td>LP001005</td>\n",
              "      <td>3000</td>\n",
              "      <td>0.0</td>\n",
              "      <td>66.0</td>\n",
              "      <td>360.0</td>\n",
              "      <td>1.0</td>\n",
              "      <td>Urban</td>\n",
              "      <td>Y</td>\n",
              "      <td>Male</td>\n",
              "      <td>Yes</td>\n",
              "      <td>Graduate</td>\n",
              "      <td>Yes</td>\n",
              "      <td>0</td>\n",
              "    </tr>\n",
              "    <tr>\n",
              "      <th>3</th>\n",
              "      <td>LP001006</td>\n",
              "      <td>2583</td>\n",
              "      <td>2358.0</td>\n",
              "      <td>120.0</td>\n",
              "      <td>360.0</td>\n",
              "      <td>1.0</td>\n",
              "      <td>Urban</td>\n",
              "      <td>Y</td>\n",
              "      <td>Male</td>\n",
              "      <td>Yes</td>\n",
              "      <td>Not Graduate</td>\n",
              "      <td>No</td>\n",
              "      <td>0</td>\n",
              "    </tr>\n",
              "    <tr>\n",
              "      <th>4</th>\n",
              "      <td>LP001008</td>\n",
              "      <td>6000</td>\n",
              "      <td>0.0</td>\n",
              "      <td>141.0</td>\n",
              "      <td>360.0</td>\n",
              "      <td>1.0</td>\n",
              "      <td>Urban</td>\n",
              "      <td>Y</td>\n",
              "      <td>Male</td>\n",
              "      <td>No</td>\n",
              "      <td>Graduate</td>\n",
              "      <td>No</td>\n",
              "      <td>0</td>\n",
              "    </tr>\n",
              "  </tbody>\n",
              "</table>\n",
              "</div>"
            ],
            "text/plain": [
              "    Loan_ID  ApplicantIncome  ...  Self_Employed_random  Dependents_random\n",
              "0  LP001002             5849  ...                    No                  0\n",
              "1  LP001003             4583  ...                    No                  1\n",
              "2  LP001005             3000  ...                   Yes                  0\n",
              "3  LP001006             2583  ...                    No                  0\n",
              "4  LP001008             6000  ...                    No                  0\n",
              "\n",
              "[5 rows x 13 columns]"
            ]
          },
          "metadata": {
            "tags": []
          },
          "execution_count": 16
        }
      ]
    },
    {
      "cell_type": "code",
      "metadata": {
        "id": "eb5ZETva_F2E",
        "colab": {
          "base_uri": "https://localhost:8080/"
        },
        "outputId": "321a0b43-21ec-4bde-e97f-3a2a31e06633"
      },
      "source": [
        "df.info()"
      ],
      "execution_count": 17,
      "outputs": [
        {
          "output_type": "stream",
          "text": [
            "<class 'pandas.core.frame.DataFrame'>\n",
            "RangeIndex: 614 entries, 0 to 613\n",
            "Data columns (total 13 columns):\n",
            " #   Column                Non-Null Count  Dtype  \n",
            "---  ------                --------------  -----  \n",
            " 0   Loan_ID               614 non-null    object \n",
            " 1   ApplicantIncome       614 non-null    int64  \n",
            " 2   CoapplicantIncome     614 non-null    float64\n",
            " 3   LoanAmount            592 non-null    float64\n",
            " 4   Loan_Amount_Term      600 non-null    float64\n",
            " 5   Credit_History        564 non-null    float64\n",
            " 6   Property_Area         614 non-null    object \n",
            " 7   Loan_Status           614 non-null    object \n",
            " 8   Gender_random         614 non-null    object \n",
            " 9   Married_random        614 non-null    object \n",
            " 10  Education_random      614 non-null    object \n",
            " 11  Self_Employed_random  614 non-null    object \n",
            " 12  Dependents_random     614 non-null    object \n",
            "dtypes: float64(4), int64(1), object(8)\n",
            "memory usage: 62.5+ KB\n"
          ],
          "name": "stdout"
        }
      ]
    },
    {
      "cell_type": "markdown",
      "metadata": {
        "id": "tfBhcD-P_F2E"
      },
      "source": [
        "Now Handling Numerical Null Values..."
      ]
    },
    {
      "cell_type": "code",
      "metadata": {
        "id": "rP-xh-C4_F2E"
      },
      "source": [
        "def fill_nan(data,feature):\n",
        "    median=data[feature].median()\n",
        "    data[feature]=data[feature].fillna(median)"
      ],
      "execution_count": 18,
      "outputs": []
    },
    {
      "cell_type": "code",
      "metadata": {
        "id": "DFWo7r0o_F2F"
      },
      "source": [
        "fill_nan(df,'LoanAmount')\n",
        "fill_nan(df,'Loan_Amount_Term')\n",
        "random_sampler(df,'Credit_History')"
      ],
      "execution_count": 19,
      "outputs": []
    },
    {
      "cell_type": "code",
      "metadata": {
        "id": "d9OVrLPR_F2F"
      },
      "source": [
        "df.drop(['Credit_History'],axis=1,inplace=True)"
      ],
      "execution_count": 20,
      "outputs": []
    },
    {
      "cell_type": "code",
      "metadata": {
        "id": "ZyEKgBQl_F2F",
        "colab": {
          "base_uri": "https://localhost:8080/"
        },
        "outputId": "06b325e1-b4df-4be4-a035-860945a0c2b3"
      },
      "source": [
        "df.info()"
      ],
      "execution_count": 21,
      "outputs": [
        {
          "output_type": "stream",
          "text": [
            "<class 'pandas.core.frame.DataFrame'>\n",
            "RangeIndex: 614 entries, 0 to 613\n",
            "Data columns (total 13 columns):\n",
            " #   Column                 Non-Null Count  Dtype  \n",
            "---  ------                 --------------  -----  \n",
            " 0   Loan_ID                614 non-null    object \n",
            " 1   ApplicantIncome        614 non-null    int64  \n",
            " 2   CoapplicantIncome      614 non-null    float64\n",
            " 3   LoanAmount             614 non-null    float64\n",
            " 4   Loan_Amount_Term       614 non-null    float64\n",
            " 5   Property_Area          614 non-null    object \n",
            " 6   Loan_Status            614 non-null    object \n",
            " 7   Gender_random          614 non-null    object \n",
            " 8   Married_random         614 non-null    object \n",
            " 9   Education_random       614 non-null    object \n",
            " 10  Self_Employed_random   614 non-null    object \n",
            " 11  Dependents_random      614 non-null    object \n",
            " 12  Credit_History_random  614 non-null    float64\n",
            "dtypes: float64(4), int64(1), object(8)\n",
            "memory usage: 62.5+ KB\n"
          ],
          "name": "stdout"
        }
      ]
    },
    {
      "cell_type": "markdown",
      "metadata": {
        "id": "2jn5sv-L_F2F"
      },
      "source": [
        "### Checking For Outliers in Numeric Features\n",
        "##### Fro ApplicantIncome feature"
      ]
    },
    {
      "cell_type": "code",
      "metadata": {
        "id": "r1I7zC-w_F2G",
        "colab": {
          "base_uri": "https://localhost:8080/",
          "height": 438
        },
        "outputId": "b7a6b315-12f2-4c67-b7cb-15d81e3cce2f"
      },
      "source": [
        "plt.figure(figsize=(14,5))\n",
        "plt.subplot(1, 2, 1)\n",
        "sns.distplot(df['ApplicantIncome'])\n",
        "plt.subplot(1, 2, 2)\n",
        "sns.boxplot(df['ApplicantIncome'])\n"
      ],
      "execution_count": 22,
      "outputs": [
        {
          "output_type": "stream",
          "text": [
            "/usr/local/lib/python3.7/dist-packages/seaborn/distributions.py:2557: FutureWarning: `distplot` is a deprecated function and will be removed in a future version. Please adapt your code to use either `displot` (a figure-level function with similar flexibility) or `histplot` (an axes-level function for histograms).\n",
            "  warnings.warn(msg, FutureWarning)\n",
            "/usr/local/lib/python3.7/dist-packages/seaborn/_decorators.py:43: FutureWarning: Pass the following variable as a keyword arg: x. From version 0.12, the only valid positional argument will be `data`, and passing other arguments without an explicit keyword will result in an error or misinterpretation.\n",
            "  FutureWarning\n"
          ],
          "name": "stderr"
        },
        {
          "output_type": "execute_result",
          "data": {
            "text/plain": [
              "<matplotlib.axes._subplots.AxesSubplot at 0x7f8472356150>"
            ]
          },
          "metadata": {
            "tags": []
          },
          "execution_count": 22
        },
        {
          "output_type": "display_data",
          "data": {
            "image/png": "[encoded data removed]",
            "text/plain": [
              "<Figure size 1008x360 with 2 Axes>"
            ]
          },
          "metadata": {
            "tags": [],
            "needs_background": "light"
          }
        }
      ]
    },
    {
      "cell_type": "markdown",
      "metadata": {
        "id": "fEe0eslh_F2G"
      },
      "source": [
        "AS we can see ApplicantIncome feature having an outlier, so we have to eliminate that outlier\n",
        "It seems ApplicantIncome feature is right skewed"
      ]
    },
    {
      "cell_type": "code",
      "metadata": {
        "id": "H2a2SYqP_F2G",
        "colab": {
          "base_uri": "https://localhost:8080/"
        },
        "outputId": "728a95ff-7083-490a-8d43-28b108edb688"
      },
      "source": [
        "IQR=df['ApplicantIncome'].quantile(0.75)-df['ApplicantIncome'].quantile(0.5)\n",
        "\n",
        "upper_bridge=df['ApplicantIncome'].quantile(0.75)+(IQR*3)\n",
        "lower_bridge=df['ApplicantIncome'].quantile(0.25)-(IQR*3)\n",
        "print(upper_bridge),print(lower_bridge)\n",
        "df.loc[df['ApplicantIncome']>=10000,'ApplicantIncome']=10000"
      ],
      "execution_count": 23,
      "outputs": [
        {
          "output_type": "stream",
          "text": [
            "11742.5\n",
            "-3070.0\n"
          ],
          "name": "stdout"
        }
      ]
    },
    {
      "cell_type": "code",
      "metadata": {
        "id": "PC7reqyg_F2G",
        "colab": {
          "base_uri": "https://localhost:8080/",
          "height": 492
        },
        "outputId": "c570751c-b3be-433d-fdaa-b709f7b93d95"
      },
      "source": [
        "plt.figure(figsize=(14,6))\n",
        "plt.subplot(1, 2, 1)\n",
        "sns.distplot(df['ApplicantIncome'])\n",
        "plt.subplot(1, 2, 2)\n",
        "sns.boxplot(df['ApplicantIncome'])"
      ],
      "execution_count": 24,
      "outputs": [
        {
          "output_type": "stream",
          "text": [
            "/usr/local/lib/python3.7/dist-packages/seaborn/distributions.py:2557: FutureWarning: `distplot` is a deprecated function and will be removed in a future version. Please adapt your code to use either `displot` (a figure-level function with similar flexibility) or `histplot` (an axes-level function for histograms).\n",
            "  warnings.warn(msg, FutureWarning)\n",
            "/usr/local/lib/python3.7/dist-packages/seaborn/_decorators.py:43: FutureWarning: Pass the following variable as a keyword arg: x. From version 0.12, the only valid positional argument will be `data`, and passing other arguments without an explicit keyword will result in an error or misinterpretation.\n",
            "  FutureWarning\n"
          ],
          "name": "stderr"
        },
        {
          "output_type": "execute_result",
          "data": {
            "text/plain": [
              "<matplotlib.axes._subplots.AxesSubplot at 0x7f847aebd4d0>"
            ]
          },
          "metadata": {
            "tags": []
          },
          "execution_count": 24
        },
        {
          "output_type": "display_data",
          "data": {
            "image/png": "[encoded data removed]",
            "text/plain": [
              "<Figure size 1008x432 with 2 Axes>"
            ]
          },
          "metadata": {
            "tags": [],
            "needs_background": "light"
          }
        }
      ]
    },
    {
      "cell_type": "markdown",
      "metadata": {
        "id": "pHfuXxpY_F2H"
      },
      "source": [
        "#### Fro CoapplicantIncome"
      ]
    },
    {
      "cell_type": "code",
      "metadata": {
        "id": "HX97dVRQ_F2H",
        "colab": {
          "base_uri": "https://localhost:8080/",
          "height": 438
        },
        "outputId": "84b00d09-ca1d-45cd-bd38-bf0365d37121"
      },
      "source": [
        "plt.figure(figsize=(14,5))\n",
        "plt.subplot(1, 2, 1)\n",
        "sns.distplot(df['CoapplicantIncome'])\n",
        "plt.subplot(1, 2, 2)\n",
        "sns.boxplot(df['CoapplicantIncome'])"
      ],
      "execution_count": 25,
      "outputs": [
        {
          "output_type": "stream",
          "text": [
            "/usr/local/lib/python3.7/dist-packages/seaborn/distributions.py:2557: FutureWarning: `distplot` is a deprecated function and will be removed in a future version. Please adapt your code to use either `displot` (a figure-level function with similar flexibility) or `histplot` (an axes-level function for histograms).\n",
            "  warnings.warn(msg, FutureWarning)\n",
            "/usr/local/lib/python3.7/dist-packages/seaborn/_decorators.py:43: FutureWarning: Pass the following variable as a keyword arg: x. From version 0.12, the only valid positional argument will be `data`, and passing other arguments without an explicit keyword will result in an error or misinterpretation.\n",
            "  FutureWarning\n"
          ],
          "name": "stderr"
        },
        {
          "output_type": "execute_result",
          "data": {
            "text/plain": [
              "<matplotlib.axes._subplots.AxesSubplot at 0x7f84711b2710>"
            ]
          },
          "metadata": {
            "tags": []
          },
          "execution_count": 25
        },
        {
          "output_type": "display_data",
          "data": {
            "image/png": "[encoded data removed]",
            "text/plain": [
              "<Figure size 1008x360 with 2 Axes>"
            ]
          },
          "metadata": {
            "tags": [],
            "needs_background": "light"
          }
        }
      ]
    },
    {
      "cell_type": "code",
      "metadata": {
        "id": "KWcXstbj_F2H",
        "colab": {
          "base_uri": "https://localhost:8080/"
        },
        "outputId": "a45a0c2a-7158-4367-aeb1-707b2c5d724b"
      },
      "source": [
        "IQR=df['CoapplicantIncome'].quantile(0.75)-df['CoapplicantIncome'].quantile(0.5)\n",
        "upper_bridge=df['CoapplicantIncome'].quantile(0.75)+(IQR*3)\n",
        "lower_bridge=df['CoapplicantIncome'].quantile(0.25)-(IQR*3)\n",
        "print(upper_bridge),print(lower_bridge)\n",
        "df.loc[df['CoapplicantIncome']>=5600,'CoapplicantIncome']=5600"
      ],
      "execution_count": 26,
      "outputs": [
        {
          "output_type": "stream",
          "text": [
            "5623.5\n",
            "-3326.25\n"
          ],
          "name": "stdout"
        }
      ]
    },
    {
      "cell_type": "code",
      "metadata": {
        "id": "xByqgFdh_F2H",
        "colab": {
          "base_uri": "https://localhost:8080/",
          "height": 438
        },
        "outputId": "442074e7-a969-4431-ba87-e4c7c488a2c9"
      },
      "source": [
        "\n",
        "plt.figure(figsize=(14,5))\n",
        "plt.subplot(1, 2, 1)\n",
        "sns.distplot(df['CoapplicantIncome'])\n",
        "plt.subplot(1, 2, 2)\n",
        "sns.boxplot(df['CoapplicantIncome'])"
      ],
      "execution_count": 27,
      "outputs": [
        {
          "output_type": "stream",
          "text": [
            "/usr/local/lib/python3.7/dist-packages/seaborn/distributions.py:2557: FutureWarning: `distplot` is a deprecated function and will be removed in a future version. Please adapt your code to use either `displot` (a figure-level function with similar flexibility) or `histplot` (an axes-level function for histograms).\n",
            "  warnings.warn(msg, FutureWarning)\n",
            "/usr/local/lib/python3.7/dist-packages/seaborn/_decorators.py:43: FutureWarning: Pass the following variable as a keyword arg: x. From version 0.12, the only valid positional argument will be `data`, and passing other arguments without an explicit keyword will result in an error or misinterpretation.\n",
            "  FutureWarning\n"
          ],
          "name": "stderr"
        },
        {
          "output_type": "execute_result",
          "data": {
            "text/plain": [
              "<matplotlib.axes._subplots.AxesSubplot at 0x7f8471084c50>"
            ]
          },
          "metadata": {
            "tags": []
          },
          "execution_count": 27
        },
        {
          "output_type": "display_data",
          "data": {
            "image/png": "[encoded data removed]",
            "text/plain": [
              "<Figure size 1008x360 with 2 Axes>"
            ]
          },
          "metadata": {
            "tags": [],
            "needs_background": "light"
          }
        }
      ]
    },
    {
      "cell_type": "markdown",
      "metadata": {
        "id": "ve3qzRdm_F2I"
      },
      "source": [
        "#### For LoanAmount"
      ]
    },
    {
      "cell_type": "code",
      "metadata": {
        "id": "oOtaKXE__F2I",
        "colab": {
          "base_uri": "https://localhost:8080/",
          "height": 438
        },
        "outputId": "b4240313-788c-4b28-fb17-eafa0e375a66"
      },
      "source": [
        "plt.figure(figsize=(14,5))\n",
        "plt.subplot(1, 2, 1)\n",
        "sns.distplot(df['LoanAmount'])\n",
        "plt.subplot(1, 2, 2)\n",
        "sns.boxplot(df['LoanAmount'])"
      ],
      "execution_count": 28,
      "outputs": [
        {
          "output_type": "stream",
          "text": [
            "/usr/local/lib/python3.7/dist-packages/seaborn/distributions.py:2557: FutureWarning: `distplot` is a deprecated function and will be removed in a future version. Please adapt your code to use either `displot` (a figure-level function with similar flexibility) or `histplot` (an axes-level function for histograms).\n",
            "  warnings.warn(msg, FutureWarning)\n",
            "/usr/local/lib/python3.7/dist-packages/seaborn/_decorators.py:43: FutureWarning: Pass the following variable as a keyword arg: x. From version 0.12, the only valid positional argument will be `data`, and passing other arguments without an explicit keyword will result in an error or misinterpretation.\n",
            "  FutureWarning\n"
          ],
          "name": "stderr"
        },
        {
          "output_type": "execute_result",
          "data": {
            "text/plain": [
              "<matplotlib.axes._subplots.AxesSubplot at 0x7f8470f1a190>"
            ]
          },
          "metadata": {
            "tags": []
          },
          "execution_count": 28
        },
        {
          "output_type": "display_data",
          "data": {
            "image/png": "[encoded data removed]",
            "text/plain": [
              "<Figure size 1008x360 with 2 Axes>"
            ]
          },
          "metadata": {
            "tags": [],
            "needs_background": "light"
          }
        }
      ]
    },
    {
      "cell_type": "code",
      "metadata": {
        "id": "B2py3Q8q_F2I",
        "colab": {
          "base_uri": "https://localhost:8080/"
        },
        "outputId": "417710a7-bf0d-4e93-89df-f4a6ba040dc2"
      },
      "source": [
        "IQR=df['LoanAmount'].quantile(0.75)-df['LoanAmount'].quantile(0.5)\n",
        "upper_bridge=df['LoanAmount'].quantile(0.75)+(IQR*3)\n",
        "lower_bridge=df['LoanAmount'].quantile(0.25)-(IQR*3)\n",
        "print(upper_bridge),print(lower_bridge)\n",
        "df.loc[df['LoanAmount']>=275,'LoanAmount']=275"
      ],
      "execution_count": 29,
      "outputs": [
        {
          "output_type": "stream",
          "text": [
            "275.0\n",
            "-10.0\n"
          ],
          "name": "stdout"
        }
      ]
    },
    {
      "cell_type": "code",
      "metadata": {
        "id": "fyY_D25a_F2I",
        "colab": {
          "base_uri": "https://localhost:8080/",
          "height": 438
        },
        "outputId": "05da9776-047e-4250-b8e7-5a89bef10bcf"
      },
      "source": [
        "plt.figure(figsize=(14,5))\n",
        "plt.subplot(1, 2, 1)\n",
        "sns.distplot(df['LoanAmount'])\n",
        "plt.subplot(1, 2, 2)\n",
        "sns.boxplot(df['LoanAmount'])"
      ],
      "execution_count": 30,
      "outputs": [
        {
          "output_type": "stream",
          "text": [
            "/usr/local/lib/python3.7/dist-packages/seaborn/distributions.py:2557: FutureWarning: `distplot` is a deprecated function and will be removed in a future version. Please adapt your code to use either `displot` (a figure-level function with similar flexibility) or `histplot` (an axes-level function for histograms).\n",
            "  warnings.warn(msg, FutureWarning)\n",
            "/usr/local/lib/python3.7/dist-packages/seaborn/_decorators.py:43: FutureWarning: Pass the following variable as a keyword arg: x. From version 0.12, the only valid positional argument will be `data`, and passing other arguments without an explicit keyword will result in an error or misinterpretation.\n",
            "  FutureWarning\n"
          ],
          "name": "stderr"
        },
        {
          "output_type": "execute_result",
          "data": {
            "text/plain": [
              "<matplotlib.axes._subplots.AxesSubplot at 0x7f847100d250>"
            ]
          },
          "metadata": {
            "tags": []
          },
          "execution_count": 30
        },
        {
          "output_type": "display_data",
          "data": {
            "image/png": "[encoded data removed]",
            "text/plain": [
              "<Figure size 1008x360 with 2 Axes>"
            ]
          },
          "metadata": {
            "tags": [],
            "needs_background": "light"
          }
        }
      ]
    },
    {
      "cell_type": "markdown",
      "metadata": {
        "id": "K7LW9HbK_F2J"
      },
      "source": [
        "### -------------------------------------------------------------------------------------------------------------------------------------------------------------"
      ]
    },
    {
      "cell_type": "markdown",
      "metadata": {
        "id": "34bT0PYy_F2J"
      },
      "source": [
        "### Now Handling Categorical Features"
      ]
    },
    {
      "cell_type": "code",
      "metadata": {
        "id": "0X-l5DO1_F2J"
      },
      "source": [
        "dummies=pd.get_dummies(df[['Property_Area','Gender_random','Married_random','Education_random','Self_Employed_random','Dependents_random']],drop_first=True)"
      ],
      "execution_count": 31,
      "outputs": []
    },
    {
      "cell_type": "code",
      "metadata": {
        "id": "KtVK8mmb_F2J"
      },
      "source": [
        "df=df.drop(['Property_Area','Gender_random','Married_random','Education_random','Self_Employed_random','Dependents_random'],axis=1)"
      ],
      "execution_count": 32,
      "outputs": []
    },
    {
      "cell_type": "code",
      "metadata": {
        "id": "pikGa2oW_F2J",
        "colab": {
          "base_uri": "https://localhost:8080/",
          "height": 240
        },
        "outputId": "d3f4a8c3-d6a5-4fd0-b07d-597272323f4b"
      },
      "source": [
        "final_df=pd.concat([df,dummies],axis=1)\n",
        "final_df.head()"
      ],
      "execution_count": 33,
      "outputs": [
        {
          "output_type": "execute_result",
          "data": {
            "text/html": [
              "<div>\n",
              "<style scoped>\n",
              "    .dataframe tbody tr th:only-of-type {\n",
              "        vertical-align: middle;\n",
              "    }\n",
              "\n",
              "    .dataframe tbody tr th {\n",
              "        vertical-align: top;\n",
              "    }\n",
              "\n",
              "    .dataframe thead th {\n",
              "        text-align: right;\n",
              "    }\n",
              "</style>\n",
              "<table border=\"1\" class=\"dataframe\">\n",
              "  <thead>\n",
              "    <tr style=\"text-align: right;\">\n",
              "      <th></th>\n",
              "      <th>Loan_ID</th>\n",
              "      <th>ApplicantIncome</th>\n",
              "      <th>CoapplicantIncome</th>\n",
              "      <th>LoanAmount</th>\n",
              "      <th>Loan_Amount_Term</th>\n",
              "      <th>Loan_Status</th>\n",
              "      <th>Credit_History_random</th>\n",
              "      <th>Property_Area_Semiurban</th>\n",
              "      <th>Property_Area_Urban</th>\n",
              "      <th>Gender_random_Male</th>\n",
              "      <th>Married_random_Yes</th>\n",
              "      <th>Education_random_Not Graduate</th>\n",
              "      <th>Self_Employed_random_Yes</th>\n",
              "      <th>Dependents_random_1</th>\n",
              "      <th>Dependents_random_2</th>\n",
              "      <th>Dependents_random_3+</th>\n",
              "    </tr>\n",
              "  </thead>\n",
              "  <tbody>\n",
              "    <tr>\n",
              "      <th>0</th>\n",
              "      <td>LP001002</td>\n",
              "      <td>5849</td>\n",
              "      <td>0.0</td>\n",
              "      <td>128.0</td>\n",
              "      <td>360.0</td>\n",
              "      <td>Y</td>\n",
              "      <td>1.0</td>\n",
              "      <td>0</td>\n",
              "      <td>1</td>\n",
              "      <td>1</td>\n",
              "      <td>0</td>\n",
              "      <td>0</td>\n",
              "      <td>0</td>\n",
              "      <td>0</td>\n",
              "      <td>0</td>\n",
              "      <td>0</td>\n",
              "    </tr>\n",
              "    <tr>\n",
              "      <th>1</th>\n",
              "      <td>LP001003</td>\n",
              "      <td>4583</td>\n",
              "      <td>1508.0</td>\n",
              "      <td>128.0</td>\n",
              "      <td>360.0</td>\n",
              "      <td>N</td>\n",
              "      <td>1.0</td>\n",
              "      <td>0</td>\n",
              "      <td>0</td>\n",
              "      <td>1</td>\n",
              "      <td>1</td>\n",
              "      <td>0</td>\n",
              "      <td>0</td>\n",
              "      <td>1</td>\n",
              "      <td>0</td>\n",
              "      <td>0</td>\n",
              "    </tr>\n",
              "    <tr>\n",
              "      <th>2</th>\n",
              "      <td>LP001005</td>\n",
              "      <td>3000</td>\n",
              "      <td>0.0</td>\n",
              "      <td>66.0</td>\n",
              "      <td>360.0</td>\n",
              "      <td>Y</td>\n",
              "      <td>1.0</td>\n",
              "      <td>0</td>\n",
              "      <td>1</td>\n",
              "      <td>1</td>\n",
              "      <td>1</td>\n",
              "      <td>0</td>\n",
              "      <td>1</td>\n",
              "      <td>0</td>\n",
              "      <td>0</td>\n",
              "      <td>0</td>\n",
              "    </tr>\n",
              "    <tr>\n",
              "      <th>3</th>\n",
              "      <td>LP001006</td>\n",
              "      <td>2583</td>\n",
              "      <td>2358.0</td>\n",
              "      <td>120.0</td>\n",
              "      <td>360.0</td>\n",
              "      <td>Y</td>\n",
              "      <td>1.0</td>\n",
              "      <td>0</td>\n",
              "      <td>1</td>\n",
              "      <td>1</td>\n",
              "      <td>1</td>\n",
              "      <td>1</td>\n",
              "      <td>0</td>\n",
              "      <td>0</td>\n",
              "      <td>0</td>\n",
              "      <td>0</td>\n",
              "    </tr>\n",
              "    <tr>\n",
              "      <th>4</th>\n",
              "      <td>LP001008</td>\n",
              "      <td>6000</td>\n",
              "      <td>0.0</td>\n",
              "      <td>141.0</td>\n",
              "      <td>360.0</td>\n",
              "      <td>Y</td>\n",
              "      <td>1.0</td>\n",
              "      <td>0</td>\n",
              "      <td>1</td>\n",
              "      <td>1</td>\n",
              "      <td>0</td>\n",
              "      <td>0</td>\n",
              "      <td>0</td>\n",
              "      <td>0</td>\n",
              "      <td>0</td>\n",
              "      <td>0</td>\n",
              "    </tr>\n",
              "  </tbody>\n",
              "</table>\n",
              "</div>"
            ],
            "text/plain": [
              "    Loan_ID  ApplicantIncome  ...  Dependents_random_2  Dependents_random_3+\n",
              "0  LP001002             5849  ...                    0                     0\n",
              "1  LP001003             4583  ...                    0                     0\n",
              "2  LP001005             3000  ...                    0                     0\n",
              "3  LP001006             2583  ...                    0                     0\n",
              "4  LP001008             6000  ...                    0                     0\n",
              "\n",
              "[5 rows x 16 columns]"
            ]
          },
          "metadata": {
            "tags": []
          },
          "execution_count": 33
        }
      ]
    },
    {
      "cell_type": "code",
      "metadata": {
        "id": "Jhs0my7M_F2K"
      },
      "source": [
        "target={'Y':1,'N':0}\n",
        "final_df['Loan_Status']=final_df['Loan_Status'].map(target)"
      ],
      "execution_count": 34,
      "outputs": []
    },
    {
      "cell_type": "code",
      "metadata": {
        "id": "-gWzPSSO_F2K"
      },
      "source": [
        "final_df.drop(['Loan_ID'],axis=1,inplace=True)"
      ],
      "execution_count": 35,
      "outputs": []
    },
    {
      "cell_type": "markdown",
      "metadata": {
        "id": "yEzqaCpd_F2K"
      },
      "source": [
        "### Seperating Dependent feature and independent fetures"
      ]
    },
    {
      "cell_type": "code",
      "metadata": {
        "id": "oF6zA1HX_F2K"
      },
      "source": [
        "X=final_df.drop(['Loan_Status'],axis=1)\n",
        "Y=final_df['Loan_Status']"
      ],
      "execution_count": 36,
      "outputs": []
    },
    {
      "cell_type": "code",
      "metadata": {
        "id": "ZPX6Kztu_F2L",
        "colab": {
          "base_uri": "https://localhost:8080/"
        },
        "outputId": "3eee35d5-4a0c-4946-b77a-22bb35f12879"
      },
      "source": [
        "Y.value_counts()"
      ],
      "execution_count": 37,
      "outputs": [
        {
          "output_type": "execute_result",
          "data": {
            "text/plain": [
              "1    422\n",
              "0    192\n",
              "Name: Loan_Status, dtype: int64"
            ]
          },
          "metadata": {
            "tags": []
          },
          "execution_count": 37
        }
      ]
    },
    {
      "cell_type": "markdown",
      "metadata": {
        "id": "XShNZX0r_F2L"
      },
      "source": [
        "#### Scaling the independent features"
      ]
    },
    {
      "cell_type": "code",
      "metadata": {
        "id": "NnE2W_s__Q9a"
      },
      "source": [
        "# Importing the Keras libraries and packages\n",
        "import keras\n",
        "from keras.models import Sequential\n",
        "from keras.layers import Dense\n",
        "from keras.layers import Dropout"
      ],
      "execution_count": 38,
      "outputs": []
    },
    {
      "cell_type": "code",
      "metadata": {
        "id": "4ARyYpQe_RH5"
      },
      "source": [
        "\n",
        "# Splitting the dataset into the Training set and Test set\n",
        "from sklearn.model_selection import train_test_split\n",
        "X_train, X_test, y_train, y_test = train_test_split(X, Y, test_size = 0.2, random_state = 0)"
      ],
      "execution_count": 39,
      "outputs": []
    },
    {
      "cell_type": "code",
      "metadata": {
        "id": "6Ti_DiSG_RK8"
      },
      "source": [
        "# Feature Scaling\n",
        "from sklearn.preprocessing import StandardScaler\n",
        "sc = StandardScaler()\n",
        "X_train = sc.fit_transform(X_train)\n",
        "X_test = sc.transform(X_test)"
      ],
      "execution_count": 40,
      "outputs": []
    },
    {
      "cell_type": "code",
      "metadata": {
        "id": "UxAMJ7zk_RNp",
        "colab": {
          "base_uri": "https://localhost:8080/"
        },
        "outputId": "288ab769-4be2-4edc-92e6-2722bdad66b5"
      },
      "source": [
        "X_train.shape"
      ],
      "execution_count": 41,
      "outputs": [
        {
          "output_type": "execute_result",
          "data": {
            "text/plain": [
              "(491, 14)"
            ]
          },
          "metadata": {
            "tags": []
          },
          "execution_count": 41
        }
      ]
    },
    {
      "cell_type": "code",
      "metadata": {
        "id": "-ZXAbyso_RQq"
      },
      "source": [
        "model=Sequential()\n",
        "\n",
        "# Adding the input layer and the first hidden layer\n",
        "model.add(Dense(units= 10, kernel_initializer = 'he_uniform',activation='relu',input_dim = 14))\n",
        "model.add(Dropout(0.3))\n",
        "# Adding the second hidden layer\n",
        "model.add(Dense(units= 5, kernel_initializer = 'he_uniform',activation='relu'))\n",
        "model.add(Dropout(0.2))\n",
        "# Adding the output layer\n",
        "model.add(Dense(units = 1, kernel_initializer = 'glorot_uniform', activation = 'sigmoid'))\n",
        "\n",
        "# Compiling the ANN\n",
        "model.compile(optimizer = 'Adam', loss = 'binary_crossentropy', metrics = ['accuracy'])"
      ],
      "execution_count": 44,
      "outputs": []
    },
    {
      "cell_type": "code",
      "metadata": {
        "id": "989kQjbs_RT4",
        "colab": {
          "base_uri": "https://localhost:8080/"
        },
        "outputId": "812e1932-be95-4803-d725-5dfdf36e2de5"
      },
      "source": [
        "\n",
        "# Fitting the ANN to the Training set\n",
        "model_history=model.fit(X_train, y_train,validation_split=0.33, batch_size = 20, epochs = 150,validation_data=(X_test,y_test))"
      ],
      "execution_count": 45,
      "outputs": [
        {
          "output_type": "stream",
          "text": [
            "Epoch 1/150\n",
            "17/17 [==============================] - 1s 18ms/step - loss: 0.7802 - accuracy: 0.6721 - val_loss: 0.6699 - val_accuracy: 0.6503\n",
            "Epoch 2/150\n",
            "17/17 [==============================] - 0s 4ms/step - loss: 0.7337 - accuracy: 0.6316 - val_loss: 0.6530 - val_accuracy: 0.6564\n",
            "Epoch 3/150\n",
            "17/17 [==============================] - 0s 5ms/step - loss: 0.7281 - accuracy: 0.6438 - val_loss: 0.6368 - val_accuracy: 0.6564\n",
            "Epoch 4/150\n",
            "17/17 [==============================] - 0s 4ms/step - loss: 0.7026 - accuracy: 0.6346 - val_loss: 0.6257 - val_accuracy: 0.6442\n",
            "Epoch 5/150\n",
            "17/17 [==============================] - 0s 4ms/step - loss: 0.6787 - accuracy: 0.6597 - val_loss: 0.6169 - val_accuracy: 0.6687\n",
            "Epoch 6/150\n",
            "17/17 [==============================] - 0s 4ms/step - loss: 0.7013 - accuracy: 0.6293 - val_loss: 0.6090 - val_accuracy: 0.6748\n",
            "Epoch 7/150\n",
            "17/17 [==============================] - 0s 5ms/step - loss: 0.6711 - accuracy: 0.6392 - val_loss: 0.6038 - val_accuracy: 0.6810\n",
            "Epoch 8/150\n",
            "17/17 [==============================] - 0s 4ms/step - loss: 0.6533 - accuracy: 0.6680 - val_loss: 0.5999 - val_accuracy: 0.6810\n",
            "Epoch 9/150\n",
            "17/17 [==============================] - 0s 4ms/step - loss: 0.6585 - accuracy: 0.6346 - val_loss: 0.5961 - val_accuracy: 0.6933\n",
            "Epoch 10/150\n",
            "17/17 [==============================] - 0s 4ms/step - loss: 0.6418 - accuracy: 0.6503 - val_loss: 0.5937 - val_accuracy: 0.6933\n",
            "Epoch 11/150\n",
            "17/17 [==============================] - 0s 4ms/step - loss: 0.6015 - accuracy: 0.7105 - val_loss: 0.5921 - val_accuracy: 0.6871\n",
            "Epoch 12/150\n",
            "17/17 [==============================] - 0s 4ms/step - loss: 0.6047 - accuracy: 0.7099 - val_loss: 0.5894 - val_accuracy: 0.6933\n",
            "Epoch 13/150\n",
            "17/17 [==============================] - 0s 4ms/step - loss: 0.6615 - accuracy: 0.7142 - val_loss: 0.5870 - val_accuracy: 0.6933\n",
            "Epoch 14/150\n",
            "17/17 [==============================] - 0s 4ms/step - loss: 0.6105 - accuracy: 0.7005 - val_loss: 0.5849 - val_accuracy: 0.6994\n",
            "Epoch 15/150\n",
            "17/17 [==============================] - 0s 4ms/step - loss: 0.6506 - accuracy: 0.6373 - val_loss: 0.5828 - val_accuracy: 0.6994\n",
            "Epoch 16/150\n",
            "17/17 [==============================] - 0s 4ms/step - loss: 0.5657 - accuracy: 0.7301 - val_loss: 0.5809 - val_accuracy: 0.6994\n",
            "Epoch 17/150\n",
            "17/17 [==============================] - 0s 4ms/step - loss: 0.6206 - accuracy: 0.6990 - val_loss: 0.5791 - val_accuracy: 0.7055\n",
            "Epoch 18/150\n",
            "17/17 [==============================] - 0s 4ms/step - loss: 0.5736 - accuracy: 0.7393 - val_loss: 0.5776 - val_accuracy: 0.7117\n",
            "Epoch 19/150\n",
            "17/17 [==============================] - 0s 4ms/step - loss: 0.6020 - accuracy: 0.7366 - val_loss: 0.5756 - val_accuracy: 0.7178\n",
            "Epoch 20/150\n",
            "17/17 [==============================] - 0s 4ms/step - loss: 0.5704 - accuracy: 0.7171 - val_loss: 0.5736 - val_accuracy: 0.7239\n",
            "Epoch 21/150\n",
            "17/17 [==============================] - 0s 4ms/step - loss: 0.5793 - accuracy: 0.7313 - val_loss: 0.5711 - val_accuracy: 0.7301\n",
            "Epoch 22/150\n",
            "17/17 [==============================] - 0s 4ms/step - loss: 0.5975 - accuracy: 0.7274 - val_loss: 0.5701 - val_accuracy: 0.7239\n",
            "Epoch 23/150\n",
            "17/17 [==============================] - 0s 4ms/step - loss: 0.5569 - accuracy: 0.7436 - val_loss: 0.5688 - val_accuracy: 0.7362\n",
            "Epoch 24/150\n",
            "17/17 [==============================] - 0s 4ms/step - loss: 0.5916 - accuracy: 0.7366 - val_loss: 0.5674 - val_accuracy: 0.7362\n",
            "Epoch 25/150\n",
            "17/17 [==============================] - 0s 4ms/step - loss: 0.5427 - accuracy: 0.7262 - val_loss: 0.5667 - val_accuracy: 0.7362\n",
            "Epoch 26/150\n",
            "17/17 [==============================] - 0s 4ms/step - loss: 0.5684 - accuracy: 0.7324 - val_loss: 0.5659 - val_accuracy: 0.7485\n",
            "Epoch 27/150\n",
            "17/17 [==============================] - 0s 4ms/step - loss: 0.6065 - accuracy: 0.7173 - val_loss: 0.5646 - val_accuracy: 0.7485\n",
            "Epoch 28/150\n",
            "17/17 [==============================] - 0s 4ms/step - loss: 0.5854 - accuracy: 0.6923 - val_loss: 0.5645 - val_accuracy: 0.7485\n",
            "Epoch 29/150\n",
            "17/17 [==============================] - 0s 4ms/step - loss: 0.5055 - accuracy: 0.7553 - val_loss: 0.5639 - val_accuracy: 0.7546\n",
            "Epoch 30/150\n",
            "17/17 [==============================] - 0s 4ms/step - loss: 0.5600 - accuracy: 0.7068 - val_loss: 0.5627 - val_accuracy: 0.7546\n",
            "Epoch 31/150\n",
            "17/17 [==============================] - 0s 4ms/step - loss: 0.5369 - accuracy: 0.7580 - val_loss: 0.5616 - val_accuracy: 0.7485\n",
            "Epoch 32/150\n",
            "17/17 [==============================] - 0s 4ms/step - loss: 0.5159 - accuracy: 0.7435 - val_loss: 0.5597 - val_accuracy: 0.7546\n",
            "Epoch 33/150\n",
            "17/17 [==============================] - 0s 4ms/step - loss: 0.5359 - accuracy: 0.7297 - val_loss: 0.5591 - val_accuracy: 0.7546\n",
            "Epoch 34/150\n",
            "17/17 [==============================] - 0s 4ms/step - loss: 0.5394 - accuracy: 0.7722 - val_loss: 0.5589 - val_accuracy: 0.7546\n",
            "Epoch 35/150\n",
            "17/17 [==============================] - 0s 4ms/step - loss: 0.5669 - accuracy: 0.7302 - val_loss: 0.5586 - val_accuracy: 0.7485\n",
            "Epoch 36/150\n",
            "17/17 [==============================] - 0s 4ms/step - loss: 0.5509 - accuracy: 0.7217 - val_loss: 0.5581 - val_accuracy: 0.7485\n",
            "Epoch 37/150\n",
            "17/17 [==============================] - 0s 4ms/step - loss: 0.5549 - accuracy: 0.7423 - val_loss: 0.5579 - val_accuracy: 0.7485\n",
            "Epoch 38/150\n",
            "17/17 [==============================] - 0s 4ms/step - loss: 0.5365 - accuracy: 0.7531 - val_loss: 0.5572 - val_accuracy: 0.7485\n",
            "Epoch 39/150\n",
            "17/17 [==============================] - 0s 4ms/step - loss: 0.5538 - accuracy: 0.7335 - val_loss: 0.5573 - val_accuracy: 0.7485\n",
            "Epoch 40/150\n",
            "17/17 [==============================] - 0s 4ms/step - loss: 0.5773 - accuracy: 0.7035 - val_loss: 0.5579 - val_accuracy: 0.7485\n",
            "Epoch 41/150\n",
            "17/17 [==============================] - 0s 4ms/step - loss: 0.5497 - accuracy: 0.7764 - val_loss: 0.5574 - val_accuracy: 0.7485\n",
            "Epoch 42/150\n",
            "17/17 [==============================] - 0s 4ms/step - loss: 0.5468 - accuracy: 0.7146 - val_loss: 0.5575 - val_accuracy: 0.7485\n",
            "Epoch 43/150\n",
            "17/17 [==============================] - 0s 4ms/step - loss: 0.4854 - accuracy: 0.7767 - val_loss: 0.5575 - val_accuracy: 0.7485\n",
            "Epoch 44/150\n",
            "17/17 [==============================] - 0s 4ms/step - loss: 0.5448 - accuracy: 0.7303 - val_loss: 0.5572 - val_accuracy: 0.7485\n",
            "Epoch 45/150\n",
            "17/17 [==============================] - 0s 4ms/step - loss: 0.5152 - accuracy: 0.7484 - val_loss: 0.5569 - val_accuracy: 0.7546\n",
            "Epoch 46/150\n",
            "17/17 [==============================] - 0s 4ms/step - loss: 0.5290 - accuracy: 0.7290 - val_loss: 0.5571 - val_accuracy: 0.7546\n",
            "Epoch 47/150\n",
            "17/17 [==============================] - 0s 4ms/step - loss: 0.4946 - accuracy: 0.7838 - val_loss: 0.5569 - val_accuracy: 0.7546\n",
            "Epoch 48/150\n",
            "17/17 [==============================] - 0s 4ms/step - loss: 0.5456 - accuracy: 0.7431 - val_loss: 0.5572 - val_accuracy: 0.7546\n",
            "Epoch 49/150\n",
            "17/17 [==============================] - 0s 4ms/step - loss: 0.5480 - accuracy: 0.7247 - val_loss: 0.5568 - val_accuracy: 0.7485\n",
            "Epoch 50/150\n",
            "17/17 [==============================] - 0s 4ms/step - loss: 0.5602 - accuracy: 0.7041 - val_loss: 0.5564 - val_accuracy: 0.7485\n",
            "Epoch 51/150\n",
            "17/17 [==============================] - 0s 4ms/step - loss: 0.4962 - accuracy: 0.7737 - val_loss: 0.5561 - val_accuracy: 0.7485\n",
            "Epoch 52/150\n",
            "17/17 [==============================] - 0s 4ms/step - loss: 0.4925 - accuracy: 0.7752 - val_loss: 0.5563 - val_accuracy: 0.7485\n",
            "Epoch 53/150\n",
            "17/17 [==============================] - 0s 5ms/step - loss: 0.5113 - accuracy: 0.7486 - val_loss: 0.5556 - val_accuracy: 0.7485\n",
            "Epoch 54/150\n",
            "17/17 [==============================] - 0s 5ms/step - loss: 0.5857 - accuracy: 0.6992 - val_loss: 0.5554 - val_accuracy: 0.7546\n",
            "Epoch 55/150\n",
            "17/17 [==============================] - 0s 4ms/step - loss: 0.4772 - accuracy: 0.7758 - val_loss: 0.5550 - val_accuracy: 0.7546\n",
            "Epoch 56/150\n",
            "17/17 [==============================] - 0s 4ms/step - loss: 0.4751 - accuracy: 0.7635 - val_loss: 0.5555 - val_accuracy: 0.7546\n",
            "Epoch 57/150\n",
            "17/17 [==============================] - 0s 4ms/step - loss: 0.5162 - accuracy: 0.7646 - val_loss: 0.5561 - val_accuracy: 0.7485\n",
            "Epoch 58/150\n",
            "17/17 [==============================] - 0s 4ms/step - loss: 0.5213 - accuracy: 0.7173 - val_loss: 0.5558 - val_accuracy: 0.7485\n",
            "Epoch 59/150\n",
            "17/17 [==============================] - 0s 4ms/step - loss: 0.5437 - accuracy: 0.7192 - val_loss: 0.5559 - val_accuracy: 0.7485\n",
            "Epoch 60/150\n",
            "17/17 [==============================] - 0s 4ms/step - loss: 0.5078 - accuracy: 0.7433 - val_loss: 0.5563 - val_accuracy: 0.7485\n",
            "Epoch 61/150\n",
            "17/17 [==============================] - 0s 4ms/step - loss: 0.4731 - accuracy: 0.7511 - val_loss: 0.5561 - val_accuracy: 0.7485\n",
            "Epoch 62/150\n",
            "17/17 [==============================] - 0s 4ms/step - loss: 0.4708 - accuracy: 0.7943 - val_loss: 0.5556 - val_accuracy: 0.7485\n",
            "Epoch 63/150\n",
            "17/17 [==============================] - 0s 4ms/step - loss: 0.5464 - accuracy: 0.7592 - val_loss: 0.5561 - val_accuracy: 0.7485\n",
            "Epoch 64/150\n",
            "17/17 [==============================] - 0s 4ms/step - loss: 0.4924 - accuracy: 0.7497 - val_loss: 0.5569 - val_accuracy: 0.7485\n",
            "Epoch 65/150\n",
            "17/17 [==============================] - 0s 4ms/step - loss: 0.5009 - accuracy: 0.7632 - val_loss: 0.5576 - val_accuracy: 0.7485\n",
            "Epoch 66/150\n",
            "17/17 [==============================] - 0s 4ms/step - loss: 0.4508 - accuracy: 0.8108 - val_loss: 0.5580 - val_accuracy: 0.7485\n",
            "Epoch 67/150\n",
            "17/17 [==============================] - 0s 4ms/step - loss: 0.5326 - accuracy: 0.7329 - val_loss: 0.5587 - val_accuracy: 0.7485\n",
            "Epoch 68/150\n",
            "17/17 [==============================] - 0s 4ms/step - loss: 0.5361 - accuracy: 0.7058 - val_loss: 0.5595 - val_accuracy: 0.7485\n",
            "Epoch 69/150\n",
            "17/17 [==============================] - 0s 4ms/step - loss: 0.4804 - accuracy: 0.7848 - val_loss: 0.5599 - val_accuracy: 0.7485\n",
            "Epoch 70/150\n",
            "17/17 [==============================] - 0s 4ms/step - loss: 0.5359 - accuracy: 0.7397 - val_loss: 0.5601 - val_accuracy: 0.7485\n",
            "Epoch 71/150\n",
            "17/17 [==============================] - 0s 4ms/step - loss: 0.4933 - accuracy: 0.7709 - val_loss: 0.5600 - val_accuracy: 0.7485\n",
            "Epoch 72/150\n",
            "17/17 [==============================] - 0s 5ms/step - loss: 0.5179 - accuracy: 0.7540 - val_loss: 0.5604 - val_accuracy: 0.7485\n",
            "Epoch 73/150\n",
            "17/17 [==============================] - 0s 4ms/step - loss: 0.5177 - accuracy: 0.7324 - val_loss: 0.5606 - val_accuracy: 0.7485\n",
            "Epoch 74/150\n",
            "17/17 [==============================] - 0s 4ms/step - loss: 0.5463 - accuracy: 0.7395 - val_loss: 0.5607 - val_accuracy: 0.7485\n",
            "Epoch 75/150\n",
            "17/17 [==============================] - 0s 4ms/step - loss: 0.4803 - accuracy: 0.7617 - val_loss: 0.5608 - val_accuracy: 0.7485\n",
            "Epoch 76/150\n",
            "17/17 [==============================] - 0s 4ms/step - loss: 0.5000 - accuracy: 0.7799 - val_loss: 0.5612 - val_accuracy: 0.7485\n",
            "Epoch 77/150\n",
            "17/17 [==============================] - 0s 4ms/step - loss: 0.4910 - accuracy: 0.7856 - val_loss: 0.5612 - val_accuracy: 0.7423\n",
            "Epoch 78/150\n",
            "17/17 [==============================] - 0s 4ms/step - loss: 0.5119 - accuracy: 0.7434 - val_loss: 0.5615 - val_accuracy: 0.7423\n",
            "Epoch 79/150\n",
            "17/17 [==============================] - 0s 4ms/step - loss: 0.4826 - accuracy: 0.7930 - val_loss: 0.5618 - val_accuracy: 0.7423\n",
            "Epoch 80/150\n",
            "17/17 [==============================] - 0s 4ms/step - loss: 0.5367 - accuracy: 0.7448 - val_loss: 0.5621 - val_accuracy: 0.7423\n",
            "Epoch 81/150\n",
            "17/17 [==============================] - 0s 4ms/step - loss: 0.4634 - accuracy: 0.7668 - val_loss: 0.5618 - val_accuracy: 0.7423\n",
            "Epoch 82/150\n",
            "17/17 [==============================] - 0s 4ms/step - loss: 0.4790 - accuracy: 0.8098 - val_loss: 0.5622 - val_accuracy: 0.7423\n",
            "Epoch 83/150\n",
            "17/17 [==============================] - 0s 4ms/step - loss: 0.5039 - accuracy: 0.7471 - val_loss: 0.5620 - val_accuracy: 0.7423\n",
            "Epoch 84/150\n",
            "17/17 [==============================] - 0s 4ms/step - loss: 0.5237 - accuracy: 0.7481 - val_loss: 0.5619 - val_accuracy: 0.7423\n",
            "Epoch 85/150\n",
            "17/17 [==============================] - 0s 5ms/step - loss: 0.4571 - accuracy: 0.7874 - val_loss: 0.5618 - val_accuracy: 0.7485\n",
            "Epoch 86/150\n",
            "17/17 [==============================] - 0s 5ms/step - loss: 0.5474 - accuracy: 0.6886 - val_loss: 0.5626 - val_accuracy: 0.7485\n",
            "Epoch 87/150\n",
            "17/17 [==============================] - 0s 4ms/step - loss: 0.4865 - accuracy: 0.7766 - val_loss: 0.5630 - val_accuracy: 0.7485\n",
            "Epoch 88/150\n",
            "17/17 [==============================] - 0s 4ms/step - loss: 0.5054 - accuracy: 0.7435 - val_loss: 0.5631 - val_accuracy: 0.7485\n",
            "Epoch 89/150\n",
            "17/17 [==============================] - 0s 4ms/step - loss: 0.5200 - accuracy: 0.7514 - val_loss: 0.5628 - val_accuracy: 0.7485\n",
            "Epoch 90/150\n",
            "17/17 [==============================] - 0s 4ms/step - loss: 0.4960 - accuracy: 0.7786 - val_loss: 0.5637 - val_accuracy: 0.7485\n",
            "Epoch 91/150\n",
            "17/17 [==============================] - 0s 4ms/step - loss: 0.5797 - accuracy: 0.7314 - val_loss: 0.5639 - val_accuracy: 0.7485\n",
            "Epoch 92/150\n",
            "17/17 [==============================] - 0s 4ms/step - loss: 0.4718 - accuracy: 0.7722 - val_loss: 0.5652 - val_accuracy: 0.7423\n",
            "Epoch 93/150\n",
            "17/17 [==============================] - 0s 4ms/step - loss: 0.4921 - accuracy: 0.7796 - val_loss: 0.5655 - val_accuracy: 0.7423\n",
            "Epoch 94/150\n",
            "17/17 [==============================] - 0s 4ms/step - loss: 0.4685 - accuracy: 0.8008 - val_loss: 0.5661 - val_accuracy: 0.7423\n",
            "Epoch 95/150\n",
            "17/17 [==============================] - 0s 4ms/step - loss: 0.4726 - accuracy: 0.7656 - val_loss: 0.5665 - val_accuracy: 0.7485\n",
            "Epoch 96/150\n",
            "17/17 [==============================] - 0s 4ms/step - loss: 0.4967 - accuracy: 0.7654 - val_loss: 0.5671 - val_accuracy: 0.7485\n",
            "Epoch 97/150\n",
            "17/17 [==============================] - 0s 4ms/step - loss: 0.4624 - accuracy: 0.7823 - val_loss: 0.5670 - val_accuracy: 0.7485\n",
            "Epoch 98/150\n",
            "17/17 [==============================] - 0s 4ms/step - loss: 0.4428 - accuracy: 0.8233 - val_loss: 0.5683 - val_accuracy: 0.7485\n",
            "Epoch 99/150\n",
            "17/17 [==============================] - 0s 5ms/step - loss: 0.4568 - accuracy: 0.7874 - val_loss: 0.5686 - val_accuracy: 0.7485\n",
            "Epoch 100/150\n",
            "17/17 [==============================] - 0s 4ms/step - loss: 0.5216 - accuracy: 0.7428 - val_loss: 0.5696 - val_accuracy: 0.7423\n",
            "Epoch 101/150\n",
            "17/17 [==============================] - 0s 4ms/step - loss: 0.4580 - accuracy: 0.7873 - val_loss: 0.5708 - val_accuracy: 0.7423\n",
            "Epoch 102/150\n",
            "17/17 [==============================] - 0s 4ms/step - loss: 0.5138 - accuracy: 0.7327 - val_loss: 0.5709 - val_accuracy: 0.7423\n",
            "Epoch 103/150\n",
            "17/17 [==============================] - 0s 4ms/step - loss: 0.4858 - accuracy: 0.7543 - val_loss: 0.5720 - val_accuracy: 0.7423\n",
            "Epoch 104/150\n",
            "17/17 [==============================] - 0s 4ms/step - loss: 0.4725 - accuracy: 0.7499 - val_loss: 0.5728 - val_accuracy: 0.7423\n",
            "Epoch 105/150\n",
            "17/17 [==============================] - 0s 4ms/step - loss: 0.5036 - accuracy: 0.7421 - val_loss: 0.5723 - val_accuracy: 0.7423\n",
            "Epoch 106/150\n",
            "17/17 [==============================] - 0s 4ms/step - loss: 0.4485 - accuracy: 0.8144 - val_loss: 0.5723 - val_accuracy: 0.7423\n",
            "Epoch 107/150\n",
            "17/17 [==============================] - 0s 4ms/step - loss: 0.5211 - accuracy: 0.7701 - val_loss: 0.5717 - val_accuracy: 0.7423\n",
            "Epoch 108/150\n",
            "17/17 [==============================] - 0s 4ms/step - loss: 0.4758 - accuracy: 0.7862 - val_loss: 0.5724 - val_accuracy: 0.7423\n",
            "Epoch 109/150\n",
            "17/17 [==============================] - 0s 5ms/step - loss: 0.4348 - accuracy: 0.8060 - val_loss: 0.5742 - val_accuracy: 0.7423\n",
            "Epoch 110/150\n",
            "17/17 [==============================] - 0s 4ms/step - loss: 0.5020 - accuracy: 0.7609 - val_loss: 0.5749 - val_accuracy: 0.7423\n",
            "Epoch 111/150\n",
            "17/17 [==============================] - 0s 6ms/step - loss: 0.4915 - accuracy: 0.7706 - val_loss: 0.5754 - val_accuracy: 0.7423\n",
            "Epoch 112/150\n",
            "17/17 [==============================] - 0s 4ms/step - loss: 0.5436 - accuracy: 0.7106 - val_loss: 0.5752 - val_accuracy: 0.7423\n",
            "Epoch 113/150\n",
            "17/17 [==============================] - 0s 4ms/step - loss: 0.5190 - accuracy: 0.7506 - val_loss: 0.5745 - val_accuracy: 0.7423\n",
            "Epoch 114/150\n",
            "17/17 [==============================] - 0s 4ms/step - loss: 0.4428 - accuracy: 0.8084 - val_loss: 0.5746 - val_accuracy: 0.7423\n",
            "Epoch 115/150\n",
            "17/17 [==============================] - 0s 4ms/step - loss: 0.4830 - accuracy: 0.7791 - val_loss: 0.5750 - val_accuracy: 0.7423\n",
            "Epoch 116/150\n",
            "17/17 [==============================] - 0s 4ms/step - loss: 0.4481 - accuracy: 0.7854 - val_loss: 0.5748 - val_accuracy: 0.7423\n",
            "Epoch 117/150\n",
            "17/17 [==============================] - 0s 4ms/step - loss: 0.4927 - accuracy: 0.7473 - val_loss: 0.5745 - val_accuracy: 0.7423\n",
            "Epoch 118/150\n",
            "17/17 [==============================] - 0s 4ms/step - loss: 0.4882 - accuracy: 0.7477 - val_loss: 0.5751 - val_accuracy: 0.7423\n",
            "Epoch 119/150\n",
            "17/17 [==============================] - 0s 4ms/step - loss: 0.5474 - accuracy: 0.7307 - val_loss: 0.5754 - val_accuracy: 0.7423\n",
            "Epoch 120/150\n",
            "17/17 [==============================] - 0s 5ms/step - loss: 0.4747 - accuracy: 0.7547 - val_loss: 0.5765 - val_accuracy: 0.7423\n",
            "Epoch 121/150\n",
            "17/17 [==============================] - 0s 4ms/step - loss: 0.5250 - accuracy: 0.7154 - val_loss: 0.5775 - val_accuracy: 0.7423\n",
            "Epoch 122/150\n",
            "17/17 [==============================] - 0s 4ms/step - loss: 0.5043 - accuracy: 0.7545 - val_loss: 0.5778 - val_accuracy: 0.7423\n",
            "Epoch 123/150\n",
            "17/17 [==============================] - 0s 4ms/step - loss: 0.4737 - accuracy: 0.7749 - val_loss: 0.5783 - val_accuracy: 0.7423\n",
            "Epoch 124/150\n",
            "17/17 [==============================] - 0s 4ms/step - loss: 0.4955 - accuracy: 0.7744 - val_loss: 0.5781 - val_accuracy: 0.7423\n",
            "Epoch 125/150\n",
            "17/17 [==============================] - 0s 5ms/step - loss: 0.4318 - accuracy: 0.7996 - val_loss: 0.5790 - val_accuracy: 0.7423\n",
            "Epoch 126/150\n",
            "17/17 [==============================] - 0s 4ms/step - loss: 0.4524 - accuracy: 0.7756 - val_loss: 0.5807 - val_accuracy: 0.7423\n",
            "Epoch 127/150\n",
            "17/17 [==============================] - 0s 4ms/step - loss: 0.4627 - accuracy: 0.8062 - val_loss: 0.5830 - val_accuracy: 0.7423\n",
            "Epoch 128/150\n",
            "17/17 [==============================] - 0s 4ms/step - loss: 0.4733 - accuracy: 0.7614 - val_loss: 0.5832 - val_accuracy: 0.7423\n",
            "Epoch 129/150\n",
            "17/17 [==============================] - 0s 5ms/step - loss: 0.4823 - accuracy: 0.7921 - val_loss: 0.5831 - val_accuracy: 0.7423\n",
            "Epoch 130/150\n",
            "17/17 [==============================] - 0s 4ms/step - loss: 0.4737 - accuracy: 0.7820 - val_loss: 0.5833 - val_accuracy: 0.7423\n",
            "Epoch 131/150\n",
            "17/17 [==============================] - 0s 5ms/step - loss: 0.4534 - accuracy: 0.7802 - val_loss: 0.5838 - val_accuracy: 0.7423\n",
            "Epoch 132/150\n",
            "17/17 [==============================] - 0s 4ms/step - loss: 0.4591 - accuracy: 0.7839 - val_loss: 0.5836 - val_accuracy: 0.7423\n",
            "Epoch 133/150\n",
            "17/17 [==============================] - 0s 4ms/step - loss: 0.4864 - accuracy: 0.7305 - val_loss: 0.5829 - val_accuracy: 0.7423\n",
            "Epoch 134/150\n",
            "17/17 [==============================] - 0s 4ms/step - loss: 0.4707 - accuracy: 0.7670 - val_loss: 0.5830 - val_accuracy: 0.7423\n",
            "Epoch 135/150\n",
            "17/17 [==============================] - 0s 4ms/step - loss: 0.4535 - accuracy: 0.7953 - val_loss: 0.5835 - val_accuracy: 0.7423\n",
            "Epoch 136/150\n",
            "17/17 [==============================] - 0s 4ms/step - loss: 0.4990 - accuracy: 0.7578 - val_loss: 0.5831 - val_accuracy: 0.7423\n",
            "Epoch 137/150\n",
            "17/17 [==============================] - 0s 4ms/step - loss: 0.4717 - accuracy: 0.7883 - val_loss: 0.5844 - val_accuracy: 0.7423\n",
            "Epoch 138/150\n",
            "17/17 [==============================] - 0s 4ms/step - loss: 0.4406 - accuracy: 0.8153 - val_loss: 0.5845 - val_accuracy: 0.7423\n",
            "Epoch 139/150\n",
            "17/17 [==============================] - 0s 4ms/step - loss: 0.4481 - accuracy: 0.7977 - val_loss: 0.5846 - val_accuracy: 0.7423\n",
            "Epoch 140/150\n",
            "17/17 [==============================] - 0s 4ms/step - loss: 0.4487 - accuracy: 0.7908 - val_loss: 0.5845 - val_accuracy: 0.7423\n",
            "Epoch 141/150\n",
            "17/17 [==============================] - 0s 4ms/step - loss: 0.4530 - accuracy: 0.7823 - val_loss: 0.5846 - val_accuracy: 0.7423\n",
            "Epoch 142/150\n",
            "17/17 [==============================] - 0s 4ms/step - loss: 0.4942 - accuracy: 0.7703 - val_loss: 0.5846 - val_accuracy: 0.7423\n",
            "Epoch 143/150\n",
            "17/17 [==============================] - 0s 5ms/step - loss: 0.4499 - accuracy: 0.7890 - val_loss: 0.5855 - val_accuracy: 0.7423\n",
            "Epoch 144/150\n",
            "17/17 [==============================] - 0s 4ms/step - loss: 0.4768 - accuracy: 0.7699 - val_loss: 0.5853 - val_accuracy: 0.7362\n",
            "Epoch 145/150\n",
            "17/17 [==============================] - 0s 4ms/step - loss: 0.4531 - accuracy: 0.7602 - val_loss: 0.5870 - val_accuracy: 0.7362\n",
            "Epoch 146/150\n",
            "17/17 [==============================] - 0s 4ms/step - loss: 0.4778 - accuracy: 0.7807 - val_loss: 0.5872 - val_accuracy: 0.7362\n",
            "Epoch 147/150\n",
            "17/17 [==============================] - 0s 4ms/step - loss: 0.4687 - accuracy: 0.7433 - val_loss: 0.5876 - val_accuracy: 0.7362\n",
            "Epoch 148/150\n",
            "17/17 [==============================] - 0s 4ms/step - loss: 0.4495 - accuracy: 0.8049 - val_loss: 0.5873 - val_accuracy: 0.7362\n",
            "Epoch 149/150\n",
            "17/17 [==============================] - 0s 4ms/step - loss: 0.4898 - accuracy: 0.7603 - val_loss: 0.5881 - val_accuracy: 0.7362\n",
            "Epoch 150/150\n",
            "17/17 [==============================] - 0s 4ms/step - loss: 0.4818 - accuracy: 0.7974 - val_loss: 0.5879 - val_accuracy: 0.7362\n"
          ],
          "name": "stdout"
        }
      ]
    },
    {
      "cell_type": "code",
      "metadata": {
        "id": "IK_IR8i-_RWh"
      },
      "source": [
        "losses=pd.DataFrame(model.history.history)"
      ],
      "execution_count": 46,
      "outputs": []
    },
    {
      "cell_type": "code",
      "metadata": {
        "colab": {
          "base_uri": "https://localhost:8080/",
          "height": 282
        },
        "id": "iF8TM_sRCa34",
        "outputId": "d060f111-aaa6-47b0-f1ba-e4e883082105"
      },
      "source": [
        "losses.plot()"
      ],
      "execution_count": 47,
      "outputs": [
        {
          "output_type": "execute_result",
          "data": {
            "text/plain": [
              "<matplotlib.axes._subplots.AxesSubplot at 0x7f83e66f6290>"
            ]
          },
          "metadata": {
            "tags": []
          },
          "execution_count": 47
        },
        {
          "output_type": "display_data",
          "data": {
            "image/png": "[encoded data removed]",
            "text/plain": [
              "<Figure size 432x288 with 1 Axes>"
            ]
          },
          "metadata": {
            "tags": [],
            "needs_background": "light"
          }
        }
      ]
    },
    {
      "cell_type": "code",
      "metadata": {
        "id": "0pbaC6OlCcp7"
      },
      "source": [
        "\n",
        "# Predicting the Test set results\n",
        "y_pred = model.predict(X_test)\n",
        "y_pred = (y_pred > 0.5)"
      ],
      "execution_count": 53,
      "outputs": []
    },
    {
      "cell_type": "code",
      "metadata": {
        "colab": {
          "base_uri": "https://localhost:8080/"
        },
        "id": "T8INSgyZCkJ4",
        "outputId": "4ddd02dd-8429-4317-a837-00ada0782643"
      },
      "source": [
        "\n",
        "# Making the Confusion Matrix\n",
        "from sklearn.metrics import confusion_matrix,classification_report\n",
        "print(classification_report(y_test,y_pred))\n",
        "print(confusion_matrix(y_test,y_pred))"
      ],
      "execution_count": 54,
      "outputs": [
        {
          "output_type": "stream",
          "text": [
            "              precision    recall  f1-score   support\n",
            "\n",
            "           0       0.82      0.42      0.56        33\n",
            "           1       0.82      0.97      0.89        90\n",
            "\n",
            "    accuracy                           0.82       123\n",
            "   macro avg       0.82      0.70      0.72       123\n",
            "weighted avg       0.82      0.82      0.80       123\n",
            "\n",
            "[[14 19]\n",
            " [ 3 87]]\n"
          ],
          "name": "stdout"
        }
      ]
    },
    {
      "cell_type": "code",
      "metadata": {
        "id": "1egRDR42Cln2"
      },
      "source": [
        ""
      ],
      "execution_count": null,
      "outputs": []
    }
  ]
}