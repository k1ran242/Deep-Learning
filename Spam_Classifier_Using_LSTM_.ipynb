{
  "nbformat": 4,
  "nbformat_minor": 0,
  "metadata": {
    "colab": {
      "name": "Spam Classifier Using LSTM .ipynb",
      "provenance": [],
      "collapsed_sections": [],
      "mount_file_id": "1qjknRCk_Zz3pNuLS_v20cW2FUy_DheZ-",
      "authorship_tag": "ABX9TyOpxSMZfS4CtTAJAsQXDErI",
      "include_colab_link": true
    },
    "kernelspec": {
      "name": "python3",
      "display_name": "Python 3"
    },
    "language_info": {
      "name": "python"
    },
    "accelerator": "GPU"
  },
  "cells": [
    {
      "cell_type": "markdown",
      "metadata": {
        "id": "view-in-github",
        "colab_type": "text"
      },
      "source": [
        "<a href=\"https://colab.research.google.com/github/k1ran242/kiran/blob/main/Spam_Classifier_Using_LSTM_.ipynb\" target=\"_parent\"><img src=\"https://colab.research.google.com/assets/colab-badge.svg\" alt=\"Open In Colab\"/></a>"
      ]
    },
    {
      "cell_type": "code",
      "metadata": {
        "id": "III_55BROODM"
      },
      "source": [
        "import pandas as pd\n",
        "import numpy as np"
      ],
      "execution_count": 1,
      "outputs": []
    },
    {
      "cell_type": "code",
      "metadata": {
        "colab": {
          "base_uri": "https://localhost:8080/",
          "height": 203
        },
        "id": "f6xCyyawO4M-",
        "outputId": "fd608f6c-e1d0-41f1-e28f-64934fd3924f"
      },
      "source": [
        "data=pd.read_csv('/content/drive/MyDrive/Colab Notebooks/Natural Language Kaggle/NLP_train.csv')\n",
        "data.head()"
      ],
      "execution_count": 2,
      "outputs": [
        {
          "output_type": "execute_result",
          "data": {
            "text/html": [
              "<div>\n",
              "<style scoped>\n",
              "    .dataframe tbody tr th:only-of-type {\n",
              "        vertical-align: middle;\n",
              "    }\n",
              "\n",
              "    .dataframe tbody tr th {\n",
              "        vertical-align: top;\n",
              "    }\n",
              "\n",
              "    .dataframe thead th {\n",
              "        text-align: right;\n",
              "    }\n",
              "</style>\n",
              "<table border=\"1\" class=\"dataframe\">\n",
              "  <thead>\n",
              "    <tr style=\"text-align: right;\">\n",
              "      <th></th>\n",
              "      <th>id</th>\n",
              "      <th>keyword</th>\n",
              "      <th>location</th>\n",
              "      <th>text</th>\n",
              "      <th>target</th>\n",
              "    </tr>\n",
              "  </thead>\n",
              "  <tbody>\n",
              "    <tr>\n",
              "      <th>0</th>\n",
              "      <td>1</td>\n",
              "      <td>NaN</td>\n",
              "      <td>NaN</td>\n",
              "      <td>Our Deeds are the Reason of this #earthquake M...</td>\n",
              "      <td>1</td>\n",
              "    </tr>\n",
              "    <tr>\n",
              "      <th>1</th>\n",
              "      <td>4</td>\n",
              "      <td>NaN</td>\n",
              "      <td>NaN</td>\n",
              "      <td>Forest fire near La Ronge Sask. Canada</td>\n",
              "      <td>1</td>\n",
              "    </tr>\n",
              "    <tr>\n",
              "      <th>2</th>\n",
              "      <td>5</td>\n",
              "      <td>NaN</td>\n",
              "      <td>NaN</td>\n",
              "      <td>All residents asked to 'shelter in place' are ...</td>\n",
              "      <td>1</td>\n",
              "    </tr>\n",
              "    <tr>\n",
              "      <th>3</th>\n",
              "      <td>6</td>\n",
              "      <td>NaN</td>\n",
              "      <td>NaN</td>\n",
              "      <td>13,000 people receive #wildfires evacuation or...</td>\n",
              "      <td>1</td>\n",
              "    </tr>\n",
              "    <tr>\n",
              "      <th>4</th>\n",
              "      <td>7</td>\n",
              "      <td>NaN</td>\n",
              "      <td>NaN</td>\n",
              "      <td>Just got sent this photo from Ruby #Alaska as ...</td>\n",
              "      <td>1</td>\n",
              "    </tr>\n",
              "  </tbody>\n",
              "</table>\n",
              "</div>"
            ],
            "text/plain": [
              "   id keyword  ...                                               text target\n",
              "0   1     NaN  ...  Our Deeds are the Reason of this #earthquake M...      1\n",
              "1   4     NaN  ...             Forest fire near La Ronge Sask. Canada      1\n",
              "2   5     NaN  ...  All residents asked to 'shelter in place' are ...      1\n",
              "3   6     NaN  ...  13,000 people receive #wildfires evacuation or...      1\n",
              "4   7     NaN  ...  Just got sent this photo from Ruby #Alaska as ...      1\n",
              "\n",
              "[5 rows x 5 columns]"
            ]
          },
          "metadata": {
            "tags": []
          },
          "execution_count": 2
        }
      ]
    },
    {
      "cell_type": "code",
      "metadata": {
        "colab": {
          "base_uri": "https://localhost:8080/",
          "height": 417
        },
        "id": "HwdWQKoGO8o-",
        "outputId": "27d40b07-42be-41a2-fba5-e8713d07d113"
      },
      "source": [
        "data.dropna()"
      ],
      "execution_count": 3,
      "outputs": [
        {
          "output_type": "execute_result",
          "data": {
            "text/html": [
              "<div>\n",
              "<style scoped>\n",
              "    .dataframe tbody tr th:only-of-type {\n",
              "        vertical-align: middle;\n",
              "    }\n",
              "\n",
              "    .dataframe tbody tr th {\n",
              "        vertical-align: top;\n",
              "    }\n",
              "\n",
              "    .dataframe thead th {\n",
              "        text-align: right;\n",
              "    }\n",
              "</style>\n",
              "<table border=\"1\" class=\"dataframe\">\n",
              "  <thead>\n",
              "    <tr style=\"text-align: right;\">\n",
              "      <th></th>\n",
              "      <th>id</th>\n",
              "      <th>keyword</th>\n",
              "      <th>location</th>\n",
              "      <th>text</th>\n",
              "      <th>target</th>\n",
              "    </tr>\n",
              "  </thead>\n",
              "  <tbody>\n",
              "    <tr>\n",
              "      <th>31</th>\n",
              "      <td>48</td>\n",
              "      <td>ablaze</td>\n",
              "      <td>Birmingham</td>\n",
              "      <td>@bbcmtd Wholesale Markets ablaze http://t.co/l...</td>\n",
              "      <td>1</td>\n",
              "    </tr>\n",
              "    <tr>\n",
              "      <th>32</th>\n",
              "      <td>49</td>\n",
              "      <td>ablaze</td>\n",
              "      <td>Est. September 2012 - Bristol</td>\n",
              "      <td>We always try to bring the heavy. #metal #RT h...</td>\n",
              "      <td>0</td>\n",
              "    </tr>\n",
              "    <tr>\n",
              "      <th>33</th>\n",
              "      <td>50</td>\n",
              "      <td>ablaze</td>\n",
              "      <td>AFRICA</td>\n",
              "      <td>#AFRICANBAZE: Breaking news:Nigeria flag set a...</td>\n",
              "      <td>1</td>\n",
              "    </tr>\n",
              "    <tr>\n",
              "      <th>34</th>\n",
              "      <td>52</td>\n",
              "      <td>ablaze</td>\n",
              "      <td>Philadelphia, PA</td>\n",
              "      <td>Crying out for more! Set me ablaze</td>\n",
              "      <td>0</td>\n",
              "    </tr>\n",
              "    <tr>\n",
              "      <th>35</th>\n",
              "      <td>53</td>\n",
              "      <td>ablaze</td>\n",
              "      <td>London, UK</td>\n",
              "      <td>On plus side LOOK AT THE SKY LAST NIGHT IT WAS...</td>\n",
              "      <td>0</td>\n",
              "    </tr>\n",
              "    <tr>\n",
              "      <th>...</th>\n",
              "      <td>...</td>\n",
              "      <td>...</td>\n",
              "      <td>...</td>\n",
              "      <td>...</td>\n",
              "      <td>...</td>\n",
              "    </tr>\n",
              "    <tr>\n",
              "      <th>7575</th>\n",
              "      <td>10826</td>\n",
              "      <td>wrecked</td>\n",
              "      <td>TN</td>\n",
              "      <td>On the bright side I wrecked http://t.co/uEa0t...</td>\n",
              "      <td>0</td>\n",
              "    </tr>\n",
              "    <tr>\n",
              "      <th>7577</th>\n",
              "      <td>10829</td>\n",
              "      <td>wrecked</td>\n",
              "      <td>#NewcastleuponTyne #UK</td>\n",
              "      <td>@widda16 ... He's gone. You can relax. I thoug...</td>\n",
              "      <td>0</td>\n",
              "    </tr>\n",
              "    <tr>\n",
              "      <th>7579</th>\n",
              "      <td>10831</td>\n",
              "      <td>wrecked</td>\n",
              "      <td>Vancouver, Canada</td>\n",
              "      <td>Three days off from work and they've pretty mu...</td>\n",
              "      <td>0</td>\n",
              "    </tr>\n",
              "    <tr>\n",
              "      <th>7580</th>\n",
              "      <td>10832</td>\n",
              "      <td>wrecked</td>\n",
              "      <td>London</td>\n",
              "      <td>#FX #forex #trading Cramer: Iger's 3 words tha...</td>\n",
              "      <td>0</td>\n",
              "    </tr>\n",
              "    <tr>\n",
              "      <th>7581</th>\n",
              "      <td>10833</td>\n",
              "      <td>wrecked</td>\n",
              "      <td>Lincoln</td>\n",
              "      <td>@engineshed Great atmosphere at the British Li...</td>\n",
              "      <td>0</td>\n",
              "    </tr>\n",
              "  </tbody>\n",
              "</table>\n",
              "<p>5080 rows × 5 columns</p>\n",
              "</div>"
            ],
            "text/plain": [
              "         id  keyword  ...                                               text target\n",
              "31       48   ablaze  ...  @bbcmtd Wholesale Markets ablaze http://t.co/l...      1\n",
              "32       49   ablaze  ...  We always try to bring the heavy. #metal #RT h...      0\n",
              "33       50   ablaze  ...  #AFRICANBAZE: Breaking news:Nigeria flag set a...      1\n",
              "34       52   ablaze  ...                 Crying out for more! Set me ablaze      0\n",
              "35       53   ablaze  ...  On plus side LOOK AT THE SKY LAST NIGHT IT WAS...      0\n",
              "...     ...      ...  ...                                                ...    ...\n",
              "7575  10826  wrecked  ...  On the bright side I wrecked http://t.co/uEa0t...      0\n",
              "7577  10829  wrecked  ...  @widda16 ... He's gone. You can relax. I thoug...      0\n",
              "7579  10831  wrecked  ...  Three days off from work and they've pretty mu...      0\n",
              "7580  10832  wrecked  ...  #FX #forex #trading Cramer: Iger's 3 words tha...      0\n",
              "7581  10833  wrecked  ...  @engineshed Great atmosphere at the British Li...      0\n",
              "\n",
              "[5080 rows x 5 columns]"
            ]
          },
          "metadata": {
            "tags": []
          },
          "execution_count": 3
        }
      ]
    },
    {
      "cell_type": "code",
      "metadata": {
        "id": "l7cKlkdtPF77"
      },
      "source": [
        "data.reset_index(inplace=True)"
      ],
      "execution_count": 4,
      "outputs": []
    },
    {
      "cell_type": "code",
      "metadata": {
        "id": "n1Gjag2KPJlN"
      },
      "source": [
        "df=data.drop(['id','keyword','location'],axis=1)"
      ],
      "execution_count": 5,
      "outputs": []
    },
    {
      "cell_type": "code",
      "metadata": {
        "id": "2IN31SoyPUxK"
      },
      "source": [
        "X=df['text']\n",
        "y=df['target']"
      ],
      "execution_count": 6,
      "outputs": []
    },
    {
      "cell_type": "code",
      "metadata": {
        "colab": {
          "base_uri": "https://localhost:8080/"
        },
        "id": "3IuleLNhPe0w",
        "outputId": "78fe495b-bef6-4118-ddc5-379216144676"
      },
      "source": [
        "X.shape"
      ],
      "execution_count": 7,
      "outputs": [
        {
          "output_type": "execute_result",
          "data": {
            "text/plain": [
              "(7613,)"
            ]
          },
          "metadata": {
            "tags": []
          },
          "execution_count": 7
        }
      ]
    },
    {
      "cell_type": "code",
      "metadata": {
        "colab": {
          "base_uri": "https://localhost:8080/"
        },
        "id": "rxGxYYSKPgSK",
        "outputId": "a8afce6a-8c25-49a8-8b41-cb61340e02d8"
      },
      "source": [
        "y.shape"
      ],
      "execution_count": 8,
      "outputs": [
        {
          "output_type": "execute_result",
          "data": {
            "text/plain": [
              "(7613,)"
            ]
          },
          "metadata": {
            "tags": []
          },
          "execution_count": 8
        }
      ]
    },
    {
      "cell_type": "code",
      "metadata": {
        "colab": {
          "base_uri": "https://localhost:8080/",
          "height": 35
        },
        "id": "kfGp8pKAPhRH",
        "outputId": "57e03b25-241e-4bd8-bfc8-8393e531455d"
      },
      "source": [
        "import tensorflow as tf\n",
        "tf.__version__"
      ],
      "execution_count": 9,
      "outputs": [
        {
          "output_type": "execute_result",
          "data": {
            "application/vnd.google.colaboratory.intrinsic+json": {
              "type": "string"
            },
            "text/plain": [
              "'2.5.0'"
            ]
          },
          "metadata": {
            "tags": []
          },
          "execution_count": 9
        }
      ]
    },
    {
      "cell_type": "code",
      "metadata": {
        "id": "_QRz5LU3PnpX"
      },
      "source": [
        "from tensorflow.keras.layers import Embedding\n",
        "from tensorflow.keras.preprocessing.sequence import pad_sequences\n",
        "from tensorflow.keras.models import Sequential\n",
        "from tensorflow.keras.preprocessing.text import one_hot\n",
        "from tensorflow.keras.layers import LSTM\n",
        "from tensorflow.keras.layers import Dense\n"
      ],
      "execution_count": 10,
      "outputs": []
    },
    {
      "cell_type": "code",
      "metadata": {
        "id": "a8lHzAEaQOOY"
      },
      "source": [
        "voc_size=5000"
      ],
      "execution_count": 11,
      "outputs": []
    },
    {
      "cell_type": "code",
      "metadata": {
        "id": "fbAFahcrQYAi"
      },
      "source": [
        ""
      ],
      "execution_count": 11,
      "outputs": []
    },
    {
      "cell_type": "markdown",
      "metadata": {
        "id": "rXnnFMUuQcR-"
      },
      "source": [
        ""
      ]
    },
    {
      "cell_type": "markdown",
      "metadata": {
        "id": "F7eqxWB-QeXk"
      },
      "source": [
        "**OneHot Representation**"
      ]
    },
    {
      "cell_type": "code",
      "metadata": {
        "id": "8KcPNlvfQi_0"
      },
      "source": [
        "messages=X.copy()"
      ],
      "execution_count": 12,
      "outputs": []
    },
    {
      "cell_type": "code",
      "metadata": {
        "id": "1WXZ1-tAQm80"
      },
      "source": [
        "import nltk\n",
        "import re\n",
        "from nltk.corpus import stopwords"
      ],
      "execution_count": 13,
      "outputs": []
    },
    {
      "cell_type": "code",
      "metadata": {
        "colab": {
          "base_uri": "https://localhost:8080/"
        },
        "id": "vWffq-TjQxtd",
        "outputId": "8a320f54-b165-4777-df5e-f9d2b25aa44c"
      },
      "source": [
        "nltk.download('stopwords')"
      ],
      "execution_count": 14,
      "outputs": [
        {
          "output_type": "stream",
          "text": [
            "[nltk_data] Downloading package stopwords to /root/nltk_data...\n",
            "[nltk_data]   Package stopwords is already up-to-date!\n"
          ],
          "name": "stdout"
        },
        {
          "output_type": "execute_result",
          "data": {
            "text/plain": [
              "True"
            ]
          },
          "metadata": {
            "tags": []
          },
          "execution_count": 14
        }
      ]
    },
    {
      "cell_type": "code",
      "metadata": {
        "id": "prXz_CzaQ35w"
      },
      "source": [
        "## Data Preprocessing\n",
        "from nltk.stem.porter import PorterStemmer\n",
        "ps=PorterStemmer()"
      ],
      "execution_count": 15,
      "outputs": []
    },
    {
      "cell_type": "code",
      "metadata": {
        "id": "AujdelBlQ8yM"
      },
      "source": [
        "corpus=[]\n",
        "for i in range(0,len(messages)):\n",
        "  text=re.sub('[^a-zA-Z]',' ',messages[i])\n",
        "  text=text.lower()\n",
        "  text=text.split()\n",
        "  text=[ps.stem(word) for word in text if not word in stopwords.words('english')]\n",
        "  text=' '.join(text)\n",
        "  corpus.append(text)"
      ],
      "execution_count": 16,
      "outputs": []
    },
    {
      "cell_type": "code",
      "metadata": {
        "id": "RSeO8qJqSBMP"
      },
      "source": [
        "#corpus"
      ],
      "execution_count": 17,
      "outputs": []
    },
    {
      "cell_type": "code",
      "metadata": {
        "colab": {
          "base_uri": "https://localhost:8080/"
        },
        "id": "9fbOXsRnSaX8",
        "outputId": "09acdd03-3972-4473-89d2-0b7022a4a145"
      },
      "source": [
        "onehot_repr=[one_hot(words,voc_size) for words in corpus]\n",
        "onehot_repr[0]"
      ],
      "execution_count": 18,
      "outputs": [
        {
          "output_type": "execute_result",
          "data": {
            "text/plain": [
              "[4671, 4490, 1706, 1764, 1656, 425, 178]"
            ]
          },
          "metadata": {
            "tags": []
          },
          "execution_count": 18
        }
      ]
    },
    {
      "cell_type": "code",
      "metadata": {
        "id": "iXS1SfbtS1K7"
      },
      "source": [
        ""
      ],
      "execution_count": 18,
      "outputs": []
    },
    {
      "cell_type": "markdown",
      "metadata": {
        "id": "zByPMf2gS9dI"
      },
      "source": [
        "**Embedding Representation**"
      ]
    },
    {
      "cell_type": "code",
      "metadata": {
        "colab": {
          "base_uri": "https://localhost:8080/"
        },
        "id": "GMptBzjfTCJx",
        "outputId": "a0c1a7c4-0f43-453f-b916-e4cb2387fdcf"
      },
      "source": [
        "sent_lenght=20\n",
        "embedded_docs=pad_sequences(onehot_repr,padding='pre',maxlen=sent_lenght)\n",
        "embedded_docs[100]"
      ],
      "execution_count": 19,
      "outputs": [
        {
          "output_type": "execute_result",
          "data": {
            "text/plain": [
              "array([   0,    0,    0,    0,    0,    0,    0,    0, 3125, 2653, 2637,\n",
              "        858, 2880,  680,  469, 3510,   96, 3456,  745, 2680], dtype=int32)"
            ]
          },
          "metadata": {
            "tags": []
          },
          "execution_count": 19
        }
      ]
    },
    {
      "cell_type": "code",
      "metadata": {
        "colab": {
          "base_uri": "https://localhost:8080/"
        },
        "id": "XJnoeOx6TYHN",
        "outputId": "679f96b5-c31d-4ede-edd1-b0f2ce882f29"
      },
      "source": [
        "len(embedded_docs)"
      ],
      "execution_count": 20,
      "outputs": [
        {
          "output_type": "execute_result",
          "data": {
            "text/plain": [
              "7613"
            ]
          },
          "metadata": {
            "tags": []
          },
          "execution_count": 20
        }
      ]
    },
    {
      "cell_type": "code",
      "metadata": {
        "id": "x0aaCZCfTkZY"
      },
      "source": [
        ""
      ],
      "execution_count": 20,
      "outputs": []
    },
    {
      "cell_type": "markdown",
      "metadata": {
        "id": "oWMO6sONTn9g"
      },
      "source": [
        "**Creating Models**"
      ]
    },
    {
      "cell_type": "code",
      "metadata": {
        "id": "AF-2EevbTqQf"
      },
      "source": [
        "embedding_vector_feature=40\n",
        "model=Sequential()\n",
        "model.add(Embedding(voc_size,embedding_vector_feature,input_length=sent_lenght))\n",
        "model.add(LSTM(100))\n",
        "model.add(Dense(1,activation='sigmoid'))\n",
        "model.compile(loss='binary_crossentropy',optimizer='adam',metrics=['accuracy'])"
      ],
      "execution_count": 21,
      "outputs": []
    },
    {
      "cell_type": "code",
      "metadata": {
        "colab": {
          "base_uri": "https://localhost:8080/"
        },
        "id": "vchZKWB1Ty_t",
        "outputId": "1ba1a995-7f80-41c7-fd6c-d887517cdacd"
      },
      "source": [
        "model.summary()"
      ],
      "execution_count": 22,
      "outputs": [
        {
          "output_type": "stream",
          "text": [
            "Model: \"sequential\"\n",
            "_________________________________________________________________\n",
            "Layer (type)                 Output Shape              Param #   \n",
            "=================================================================\n",
            "embedding (Embedding)        (None, 20, 40)            200000    \n",
            "_________________________________________________________________\n",
            "lstm (LSTM)                  (None, 100)               56400     \n",
            "_________________________________________________________________\n",
            "dense (Dense)                (None, 1)                 101       \n",
            "=================================================================\n",
            "Total params: 256,501\n",
            "Trainable params: 256,501\n",
            "Non-trainable params: 0\n",
            "_________________________________________________________________\n"
          ],
          "name": "stdout"
        }
      ]
    },
    {
      "cell_type": "code",
      "metadata": {
        "colab": {
          "base_uri": "https://localhost:8080/"
        },
        "id": "iHNrdPaqUWuW",
        "outputId": "122ba305-6339-4794-b1e6-3f55e604fa38"
      },
      "source": [
        "len(embedded_docs),y.shape"
      ],
      "execution_count": 23,
      "outputs": [
        {
          "output_type": "execute_result",
          "data": {
            "text/plain": [
              "(7613, (7613,))"
            ]
          },
          "metadata": {
            "tags": []
          },
          "execution_count": 23
        }
      ]
    },
    {
      "cell_type": "code",
      "metadata": {
        "id": "AWvnS-jvUlM6"
      },
      "source": [
        "X_final=np.array(embedded_docs)\n",
        "y_final=np.array(y)"
      ],
      "execution_count": 24,
      "outputs": []
    },
    {
      "cell_type": "code",
      "metadata": {
        "colab": {
          "base_uri": "https://localhost:8080/"
        },
        "id": "GpVxCYtDUuEq",
        "outputId": "56129403-19e1-4018-a1c7-e7a7b85f4d9e"
      },
      "source": [
        "X_final.shape,y_final.shape"
      ],
      "execution_count": 25,
      "outputs": [
        {
          "output_type": "execute_result",
          "data": {
            "text/plain": [
              "((7613, 20), (7613,))"
            ]
          },
          "metadata": {
            "tags": []
          },
          "execution_count": 25
        }
      ]
    },
    {
      "cell_type": "code",
      "metadata": {
        "id": "tXd-behuU0FQ"
      },
      "source": [
        "# from sklearn.model_selection import train_test_split\n",
        "# x_train,x_test,y_train,y_test = train_test_split(X_final,y_final,test_size=0.25,random_state=101)"
      ],
      "execution_count": 26,
      "outputs": []
    },
    {
      "cell_type": "code",
      "metadata": {
        "id": "mMvrwdq0VGJp"
      },
      "source": [
        ""
      ],
      "execution_count": 26,
      "outputs": []
    },
    {
      "cell_type": "markdown",
      "metadata": {
        "id": "RNaT06tkVIlp"
      },
      "source": [
        "**Model Training**"
      ]
    },
    {
      "cell_type": "code",
      "metadata": {
        "colab": {
          "base_uri": "https://localhost:8080/"
        },
        "id": "yN0070PGVMFf",
        "outputId": "cf0de0ed-b1fc-433d-a60c-df146299e560"
      },
      "source": [
        "model.fit(X_final,y_final,epochs=20,batch_size=32)"
      ],
      "execution_count": 27,
      "outputs": [
        {
          "output_type": "stream",
          "text": [
            "Epoch 1/20\n",
            "238/238 [==============================] - 4s 7ms/step - loss: 0.5397 - accuracy: 0.7232\n",
            "Epoch 2/20\n",
            "238/238 [==============================] - 2s 7ms/step - loss: 0.3688 - accuracy: 0.8461\n",
            "Epoch 3/20\n",
            "238/238 [==============================] - 2s 7ms/step - loss: 0.2936 - accuracy: 0.8835\n",
            "Epoch 4/20\n",
            "238/238 [==============================] - 2s 7ms/step - loss: 0.2404 - accuracy: 0.9065\n",
            "Epoch 5/20\n",
            "238/238 [==============================] - 2s 7ms/step - loss: 0.1830 - accuracy: 0.9318\n",
            "Epoch 6/20\n",
            "238/238 [==============================] - 2s 7ms/step - loss: 0.1347 - accuracy: 0.9543\n",
            "Epoch 7/20\n",
            "238/238 [==============================] - 2s 7ms/step - loss: 0.0994 - accuracy: 0.9677\n",
            "Epoch 8/20\n",
            "238/238 [==============================] - 2s 7ms/step - loss: 0.0852 - accuracy: 0.9724\n",
            "Epoch 9/20\n",
            "238/238 [==============================] - 2s 7ms/step - loss: 0.0653 - accuracy: 0.9787\n",
            "Epoch 10/20\n",
            "238/238 [==============================] - 2s 7ms/step - loss: 0.0589 - accuracy: 0.9804\n",
            "Epoch 11/20\n",
            "238/238 [==============================] - 2s 7ms/step - loss: 0.0441 - accuracy: 0.9856\n",
            "Epoch 12/20\n",
            "238/238 [==============================] - 2s 7ms/step - loss: 0.0388 - accuracy: 0.9879\n",
            "Epoch 13/20\n",
            "238/238 [==============================] - 2s 7ms/step - loss: 0.0328 - accuracy: 0.9892\n",
            "Epoch 14/20\n",
            "238/238 [==============================] - 2s 7ms/step - loss: 0.0296 - accuracy: 0.9899\n",
            "Epoch 15/20\n",
            "238/238 [==============================] - 2s 7ms/step - loss: 0.0247 - accuracy: 0.9911\n",
            "Epoch 16/20\n",
            "238/238 [==============================] - 2s 7ms/step - loss: 0.0216 - accuracy: 0.9915\n",
            "Epoch 17/20\n",
            "238/238 [==============================] - 2s 7ms/step - loss: 0.0190 - accuracy: 0.9926\n",
            "Epoch 18/20\n",
            "238/238 [==============================] - 2s 7ms/step - loss: 0.0224 - accuracy: 0.9920\n",
            "Epoch 19/20\n",
            "238/238 [==============================] - 2s 7ms/step - loss: 0.0206 - accuracy: 0.9920\n",
            "Epoch 20/20\n",
            "238/238 [==============================] - 2s 7ms/step - loss: 0.0239 - accuracy: 0.9913\n"
          ],
          "name": "stdout"
        },
        {
          "output_type": "execute_result",
          "data": {
            "text/plain": [
              "<tensorflow.python.keras.callbacks.History at 0x7fc5502dfad0>"
            ]
          },
          "metadata": {
            "tags": []
          },
          "execution_count": 27
        }
      ]
    },
    {
      "cell_type": "code",
      "metadata": {
        "colab": {
          "base_uri": "https://localhost:8080/",
          "height": 203
        },
        "id": "NUbgmpMYVfCw",
        "outputId": "72e2914a-45ee-48a4-d9d4-6016bbf7e51a"
      },
      "source": [
        "test_data=pd.read_csv('/content/drive/MyDrive/Colab Notebooks/Natural Language Kaggle/NLP_test.csv')\n",
        "test_data.head()"
      ],
      "execution_count": 28,
      "outputs": [
        {
          "output_type": "execute_result",
          "data": {
            "text/html": [
              "<div>\n",
              "<style scoped>\n",
              "    .dataframe tbody tr th:only-of-type {\n",
              "        vertical-align: middle;\n",
              "    }\n",
              "\n",
              "    .dataframe tbody tr th {\n",
              "        vertical-align: top;\n",
              "    }\n",
              "\n",
              "    .dataframe thead th {\n",
              "        text-align: right;\n",
              "    }\n",
              "</style>\n",
              "<table border=\"1\" class=\"dataframe\">\n",
              "  <thead>\n",
              "    <tr style=\"text-align: right;\">\n",
              "      <th></th>\n",
              "      <th>id</th>\n",
              "      <th>keyword</th>\n",
              "      <th>location</th>\n",
              "      <th>text</th>\n",
              "    </tr>\n",
              "  </thead>\n",
              "  <tbody>\n",
              "    <tr>\n",
              "      <th>0</th>\n",
              "      <td>0</td>\n",
              "      <td>NaN</td>\n",
              "      <td>NaN</td>\n",
              "      <td>Just happened a terrible car crash</td>\n",
              "    </tr>\n",
              "    <tr>\n",
              "      <th>1</th>\n",
              "      <td>2</td>\n",
              "      <td>NaN</td>\n",
              "      <td>NaN</td>\n",
              "      <td>Heard about #earthquake is different cities, s...</td>\n",
              "    </tr>\n",
              "    <tr>\n",
              "      <th>2</th>\n",
              "      <td>3</td>\n",
              "      <td>NaN</td>\n",
              "      <td>NaN</td>\n",
              "      <td>there is a forest fire at spot pond, geese are...</td>\n",
              "    </tr>\n",
              "    <tr>\n",
              "      <th>3</th>\n",
              "      <td>9</td>\n",
              "      <td>NaN</td>\n",
              "      <td>NaN</td>\n",
              "      <td>Apocalypse lighting. #Spokane #wildfires</td>\n",
              "    </tr>\n",
              "    <tr>\n",
              "      <th>4</th>\n",
              "      <td>11</td>\n",
              "      <td>NaN</td>\n",
              "      <td>NaN</td>\n",
              "      <td>Typhoon Soudelor kills 28 in China and Taiwan</td>\n",
              "    </tr>\n",
              "  </tbody>\n",
              "</table>\n",
              "</div>"
            ],
            "text/plain": [
              "   id keyword location                                               text\n",
              "0   0     NaN      NaN                 Just happened a terrible car crash\n",
              "1   2     NaN      NaN  Heard about #earthquake is different cities, s...\n",
              "2   3     NaN      NaN  there is a forest fire at spot pond, geese are...\n",
              "3   9     NaN      NaN           Apocalypse lighting. #Spokane #wildfires\n",
              "4  11     NaN      NaN      Typhoon Soudelor kills 28 in China and Taiwan"
            ]
          },
          "metadata": {
            "tags": []
          },
          "execution_count": 28
        }
      ]
    },
    {
      "cell_type": "code",
      "metadata": {
        "colab": {
          "base_uri": "https://localhost:8080/",
          "height": 417
        },
        "id": "QNXQ8zzdWONc",
        "outputId": "ff145a44-5980-4021-d854-bab3923d19df"
      },
      "source": [
        "test_data.dropna()"
      ],
      "execution_count": 29,
      "outputs": [
        {
          "output_type": "execute_result",
          "data": {
            "text/html": [
              "<div>\n",
              "<style scoped>\n",
              "    .dataframe tbody tr th:only-of-type {\n",
              "        vertical-align: middle;\n",
              "    }\n",
              "\n",
              "    .dataframe tbody tr th {\n",
              "        vertical-align: top;\n",
              "    }\n",
              "\n",
              "    .dataframe thead th {\n",
              "        text-align: right;\n",
              "    }\n",
              "</style>\n",
              "<table border=\"1\" class=\"dataframe\">\n",
              "  <thead>\n",
              "    <tr style=\"text-align: right;\">\n",
              "      <th></th>\n",
              "      <th>id</th>\n",
              "      <th>keyword</th>\n",
              "      <th>location</th>\n",
              "      <th>text</th>\n",
              "    </tr>\n",
              "  </thead>\n",
              "  <tbody>\n",
              "    <tr>\n",
              "      <th>15</th>\n",
              "      <td>46</td>\n",
              "      <td>ablaze</td>\n",
              "      <td>London</td>\n",
              "      <td>Birmingham Wholesale Market is ablaze BBC News...</td>\n",
              "    </tr>\n",
              "    <tr>\n",
              "      <th>16</th>\n",
              "      <td>47</td>\n",
              "      <td>ablaze</td>\n",
              "      <td>Niall's place | SAF 12 SQUAD |</td>\n",
              "      <td>@sunkxssedharry will you wear shorts for race ...</td>\n",
              "    </tr>\n",
              "    <tr>\n",
              "      <th>17</th>\n",
              "      <td>51</td>\n",
              "      <td>ablaze</td>\n",
              "      <td>NIGERIA</td>\n",
              "      <td>#PreviouslyOnDoyinTv: Toke MakinwaÛªs marriag...</td>\n",
              "    </tr>\n",
              "    <tr>\n",
              "      <th>18</th>\n",
              "      <td>58</td>\n",
              "      <td>ablaze</td>\n",
              "      <td>Live On Webcam</td>\n",
              "      <td>Check these out: http://t.co/rOI2NSmEJJ http:/...</td>\n",
              "    </tr>\n",
              "    <tr>\n",
              "      <th>19</th>\n",
              "      <td>60</td>\n",
              "      <td>ablaze</td>\n",
              "      <td>Los Angeles, Califnordia</td>\n",
              "      <td>PSA: IÛªm splitting my personalities.\\n\\n?? t...</td>\n",
              "    </tr>\n",
              "    <tr>\n",
              "      <th>...</th>\n",
              "      <td>...</td>\n",
              "      <td>...</td>\n",
              "      <td>...</td>\n",
              "      <td>...</td>\n",
              "    </tr>\n",
              "    <tr>\n",
              "      <th>3246</th>\n",
              "      <td>10804</td>\n",
              "      <td>wrecked</td>\n",
              "      <td>Love Reiss</td>\n",
              "      <td>@yakubOObs think he deactivated because his no...</td>\n",
              "    </tr>\n",
              "    <tr>\n",
              "      <th>3247</th>\n",
              "      <td>10806</td>\n",
              "      <td>wrecked</td>\n",
              "      <td>Seattle Washington</td>\n",
              "      <td>RT CNBC '3 words from Disney CEO Bob Iger wrec...</td>\n",
              "    </tr>\n",
              "    <tr>\n",
              "      <th>3248</th>\n",
              "      <td>10807</td>\n",
              "      <td>wrecked</td>\n",
              "      <td>Acey mountain islanddåÇTorontoåÈ</td>\n",
              "      <td>Smackdown tyme this should put me in a good mo...</td>\n",
              "    </tr>\n",
              "    <tr>\n",
              "      <th>3249</th>\n",
              "      <td>10816</td>\n",
              "      <td>wrecked</td>\n",
              "      <td>los angeles</td>\n",
              "      <td>@thrillhho jsyk I haven't stopped thinking abt...</td>\n",
              "    </tr>\n",
              "    <tr>\n",
              "      <th>3250</th>\n",
              "      <td>10820</td>\n",
              "      <td>wrecked</td>\n",
              "      <td>Brussels, Belgium</td>\n",
              "      <td>@stighefootball Begovic has been garbage. He g...</td>\n",
              "    </tr>\n",
              "  </tbody>\n",
              "</table>\n",
              "<p>2158 rows × 4 columns</p>\n",
              "</div>"
            ],
            "text/plain": [
              "         id  ...                                               text\n",
              "15       46  ...  Birmingham Wholesale Market is ablaze BBC News...\n",
              "16       47  ...  @sunkxssedharry will you wear shorts for race ...\n",
              "17       51  ...  #PreviouslyOnDoyinTv: Toke MakinwaÛªs marriag...\n",
              "18       58  ...  Check these out: http://t.co/rOI2NSmEJJ http:/...\n",
              "19       60  ...  PSA: IÛªm splitting my personalities.\\n\\n?? t...\n",
              "...     ...  ...                                                ...\n",
              "3246  10804  ...  @yakubOObs think he deactivated because his no...\n",
              "3247  10806  ...  RT CNBC '3 words from Disney CEO Bob Iger wrec...\n",
              "3248  10807  ...  Smackdown tyme this should put me in a good mo...\n",
              "3249  10816  ...  @thrillhho jsyk I haven't stopped thinking abt...\n",
              "3250  10820  ...  @stighefootball Begovic has been garbage. He g...\n",
              "\n",
              "[2158 rows x 4 columns]"
            ]
          },
          "metadata": {
            "tags": []
          },
          "execution_count": 29
        }
      ]
    },
    {
      "cell_type": "code",
      "metadata": {
        "id": "uEDSLY64WU6I"
      },
      "source": [
        "test_data.reset_index(inplace=True)"
      ],
      "execution_count": 30,
      "outputs": []
    },
    {
      "cell_type": "code",
      "metadata": {
        "id": "kQXAnHCEWX2N"
      },
      "source": [
        "test_df=test_data.drop(['id','keyword','location'],axis=1)"
      ],
      "execution_count": 31,
      "outputs": []
    },
    {
      "cell_type": "code",
      "metadata": {
        "id": "qheIPqHdWdqr"
      },
      "source": [
        "test_X=test_df['text']"
      ],
      "execution_count": 32,
      "outputs": []
    },
    {
      "cell_type": "code",
      "metadata": {
        "id": "0DuujTCMWlck"
      },
      "source": [
        "test_messages=test_X.copy()"
      ],
      "execution_count": 33,
      "outputs": []
    },
    {
      "cell_type": "code",
      "metadata": {
        "id": "LK3NxMddWsAW"
      },
      "source": [
        "test_corpus=[]\n",
        "for i in range(0,len(test_messages)):\n",
        "  text=re.sub('[^a-zA-Z]',' ',test_messages[i])\n",
        "  text=text.lower()\n",
        "  text=text.split()\n",
        "  text=[ps.stem(word) for word in text if not word in stopwords.words('english')]\n",
        "  text=' '.join(text)\n",
        "  test_corpus.append(text)"
      ],
      "execution_count": 34,
      "outputs": []
    },
    {
      "cell_type": "code",
      "metadata": {
        "colab": {
          "base_uri": "https://localhost:8080/"
        },
        "id": "PE2Tmg92WxFU",
        "outputId": "fb30e8d0-9fcd-4447-ddf1-08f271111e77"
      },
      "source": [
        "onehot_repr_test=[one_hot(words,voc_size) for words in test_corpus]\n",
        "onehot_repr_test[0]"
      ],
      "execution_count": 35,
      "outputs": [
        {
          "output_type": "execute_result",
          "data": {
            "text/plain": [
              "[4430, 3245, 4827, 809]"
            ]
          },
          "metadata": {
            "tags": []
          },
          "execution_count": 35
        }
      ]
    },
    {
      "cell_type": "code",
      "metadata": {
        "colab": {
          "base_uri": "https://localhost:8080/"
        },
        "id": "RUwTy2WgW_ff",
        "outputId": "aec73f92-7901-4f19-80c4-6f11d03aa86c"
      },
      "source": [
        "sent_lenght=20\n",
        "embedded_docs_test=pad_sequences(onehot_repr_test,padding='pre',maxlen=sent_lenght)\n",
        "embedded_docs_test[100]"
      ],
      "execution_count": 36,
      "outputs": [
        {
          "output_type": "execute_result",
          "data": {
            "text/plain": [
              "array([   0,    0,    0,    0,    0,    0,    0,    0,    0,    0,    0,\n",
              "          0, 1202,  849, 2592, 3456,  745, 1891, 2886,  224], dtype=int32)"
            ]
          },
          "metadata": {
            "tags": []
          },
          "execution_count": 36
        }
      ]
    },
    {
      "cell_type": "code",
      "metadata": {
        "colab": {
          "base_uri": "https://localhost:8080/"
        },
        "id": "_o8Cg0w1XHaH",
        "outputId": "c0c8bd50-c85c-4eba-d256-126ed7d5696b"
      },
      "source": [
        "len(embedded_docs_test)"
      ],
      "execution_count": 37,
      "outputs": [
        {
          "output_type": "execute_result",
          "data": {
            "text/plain": [
              "3263"
            ]
          },
          "metadata": {
            "tags": []
          },
          "execution_count": 37
        }
      ]
    },
    {
      "cell_type": "code",
      "metadata": {
        "id": "782pM11rXYLZ"
      },
      "source": [
        "X_final_test=np.array(embedded_docs_test)"
      ],
      "execution_count": 38,
      "outputs": []
    },
    {
      "cell_type": "code",
      "metadata": {
        "colab": {
          "base_uri": "https://localhost:8080/"
        },
        "id": "e4fjqafOXdIl",
        "outputId": "c068d859-771e-4cd5-b0de-f526e0f3d664"
      },
      "source": [
        "print(X_final_test.shape)"
      ],
      "execution_count": 39,
      "outputs": [
        {
          "output_type": "stream",
          "text": [
            "(3263, 20)\n"
          ],
          "name": "stdout"
        }
      ]
    },
    {
      "cell_type": "code",
      "metadata": {
        "colab": {
          "base_uri": "https://localhost:8080/"
        },
        "id": "eEY0fgQHXk-_",
        "outputId": "ac76c45a-b0f0-48c4-a591-43b73fd66ba0"
      },
      "source": [
        "y_pred=model.predict_classes(X_final_test)\n",
        "y_pred"
      ],
      "execution_count": 40,
      "outputs": [
        {
          "output_type": "stream",
          "text": [
            "/usr/local/lib/python3.7/dist-packages/tensorflow/python/keras/engine/sequential.py:455: UserWarning: `model.predict_classes()` is deprecated and will be removed after 2021-01-01. Please use instead:* `np.argmax(model.predict(x), axis=-1)`,   if your model does multi-class classification   (e.g. if it uses a `softmax` last-layer activation).* `(model.predict(x) > 0.5).astype(\"int32\")`,   if your model does binary classification   (e.g. if it uses a `sigmoid` last-layer activation).\n",
            "  warnings.warn('`model.predict_classes()` is deprecated and '\n"
          ],
          "name": "stderr"
        },
        {
          "output_type": "execute_result",
          "data": {
            "text/plain": [
              "array([[1],\n",
              "       [0],\n",
              "       [1],\n",
              "       ...,\n",
              "       [0],\n",
              "       [1],\n",
              "       [0]], dtype=int32)"
            ]
          },
          "metadata": {
            "tags": []
          },
          "execution_count": 40
        }
      ]
    },
    {
      "cell_type": "code",
      "metadata": {
        "id": "kjBUPT5nYSgG"
      },
      "source": [
        "pred=pd.DataFrame(y_pred)\n",
        "subm=pd.read_csv('/content/drive/MyDrive/Colab Notebooks/Natural Language Kaggle/sample_submission_NLP.csv')"
      ],
      "execution_count": 41,
      "outputs": []
    },
    {
      "cell_type": "code",
      "metadata": {
        "id": "HD05H8tIecgq"
      },
      "source": [
        "dataset=pd.concat([subm['id'],pred],axis=1)\n",
        "dataset.columns=[\"id\",'target']"
      ],
      "execution_count": 42,
      "outputs": []
    },
    {
      "cell_type": "code",
      "metadata": {
        "id": "E2XPhmKqehrY"
      },
      "source": [
        "dataset.to_csv(\"NLP_kaggale_competation4.csv\",index=False)"
      ],
      "execution_count": 43,
      "outputs": []
    },
    {
      "cell_type": "code",
      "metadata": {
        "id": "6QkAPoztj8ZC"
      },
      "source": [
        ""
      ],
      "execution_count": 43,
      "outputs": []
    }
  ]
}